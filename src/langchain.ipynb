{
 "cells": [
  {
   "cell_type": "code",
   "execution_count": 29,
   "metadata": {},
   "outputs": [],
   "source": [
    "from langchain.llms import OpenAI\n",
    "from langchain import OpenAI, SQLDatabase, SQLDatabaseChain\n",
    "\n",
    "# create llm\n",
    "llm = OpenAI(temperature=0)"
   ]
  },
  {
   "cell_type": "code",
   "execution_count": 3,
   "metadata": {},
   "outputs": [],
   "source": [
    "from snowflake.sqlalchemy import URL\n",
    "\n",
    "# create snowflake connection\n",
    "uri_snow = URL(\n",
    "    account = 'vs57217.east-us-2.azure',\n",
    "    user = 'angelreh',\n",
    "    password = '5dellZE@1',\n",
    "    database = 'COVID19_EPIDEMIOLOGICAL_DATA',\n",
    "    schema = 'public',\n",
    "    warehouse = 'COMPUTE_WH',\n",
    "    role='ACCOUNTADMIN',\n",
    ")\n",
    "\n",
    "tables = [\"ecdc_global\", \"goog_global_mobility_report\"]\n",
    "db = SQLDatabase.from_uri(uri_snow, include_tables=tables)\n",
    "# print(db.table_info)"
   ]
  },
  {
   "cell_type": "markdown",
   "metadata": {},
   "source": [
    "# Example using Chain"
   ]
  },
  {
   "cell_type": "code",
   "execution_count": 4,
   "metadata": {},
   "outputs": [
    {
     "name": "stdout",
     "output_type": "stream",
     "text": [
      "\n",
      "\n",
      "\u001b[1m> Entering new SQLDatabaseChain chain...\u001b[0m\n",
      "can you give me the numbers of cases by region? try to group by region\n",
      "SQLQuery:\u001b[32;1m\u001b[1;3mSELECT country_region, SUM(cases) AS total_cases FROM ecdc_global GROUP BY country_region ORDER BY total_cases DESC LIMIT 5;\u001b[0m\n",
      "SQLResult: \u001b[33;1m\u001b[1;3m[('United States', 16256754.0), ('India', 9884100.0), ('Brazil', 6901952.0), ('Russian Federation', 2653928.0), ('France', 2376852.0)]\u001b[0m\n",
      "Answer:\u001b[32;1m\u001b[1;3mThe top 5 regions with the highest number of cases are United States, India, Brazil, Russian Federation, and France.\u001b[0m\n",
      "\u001b[1m> Finished chain.\u001b[0m\n"
     ]
    },
    {
     "data": {
      "text/plain": [
       "'The top 5 regions with the highest number of cases are United States, India, Brazil, Russian Federation, and France.'"
      ]
     },
     "execution_count": 4,
     "metadata": {},
     "output_type": "execute_result"
    }
   ],
   "source": [
    "# create chain\n",
    "db_chain = SQLDatabaseChain.from_llm(llm, db, verbose=True)\n",
    "db_chain.run(\"can you give me the numbers of cases by region? try to group by region\")"
   ]
  },
  {
   "cell_type": "markdown",
   "metadata": {},
   "source": [
    "# Example using Agent"
   ]
  },
  {
   "cell_type": "code",
   "execution_count": 30,
   "metadata": {},
   "outputs": [],
   "source": [
    "from langchain.agents import create_sql_agent\n",
    "from langchain.agents.agent_toolkits import SQLDatabaseToolkit\n",
    "from langchain.sql_database import SQLDatabase\n",
    "from langchain.llms.openai import OpenAI\n",
    "from langchain.agents import AgentExecutor\n",
    "from langchain.agents.agent_types import AgentType\n",
    "from langchain.chat_models import ChatOpenAI\n",
    "\n",
    "llm = OpenAI(temperature=0)\n",
    "toolkit = SQLDatabaseToolkit(db=db, llm=llm)"
   ]
  },
  {
   "cell_type": "code",
   "execution_count": 31,
   "metadata": {},
   "outputs": [],
   "source": [
    "llm = OpenAI(temperature=0)\n",
    "agent_executor = create_sql_agent(\n",
    "    llm=llm,\n",
    "    toolkit=toolkit,\n",
    "    verbose=True,\n",
    "    agent_type=AgentType.ZERO_SHOT_REACT_DESCRIPTION,\n",
    ")"
   ]
  },
  {
   "cell_type": "code",
   "execution_count": 35,
   "metadata": {},
   "outputs": [
    {
     "name": "stdout",
     "output_type": "stream",
     "text": [
      "\n",
      "\n",
      "\u001b[1m> Entering new AgentExecutor chain...\u001b[0m\n",
      "\u001b[32;1m\u001b[1;3mAction: sql_db_list_tables\n",
      "Action Input: \u001b[0m\n",
      "Observation: \u001b[38;5;200m\u001b[1;3mecdc_global, goog_global_mobility_report\u001b[0m\n",
      "Thought:\u001b[32;1m\u001b[1;3m I should query the schema of the ecdc_global table\n",
      "Action: sql_db_schema\n",
      "Action Input: ecdc_global\u001b[0m\n",
      "Observation: \u001b[33;1m\u001b[1;3m\n",
      "CREATE TABLE ecdc_global (\n",
      "\tcountry_region VARCHAR(16777216), \n",
      "\tcontinentexp VARCHAR(16777216), \n",
      "\tiso3166_1 VARCHAR(2), \n",
      "\tcases FLOAT, \n",
      "\tdeaths FLOAT, \n",
      "\tcases_since_prev_day FLOAT, \n",
      "\tdeaths_since_prev_day FLOAT, \n",
      "\tpopulation FLOAT, \n",
      "\tdate DATE, \n",
      "\tlast_update_date TIMESTAMP_NTZ, \n",
      "\tlast_reported_flag BOOLEAN\n",
      ")\n",
      "\n",
      "/*\n",
      "3 rows from ecdc_global table:\n",
      "country_region\tcontinentexp\tiso3166_1\tcases\tdeaths\tcases_since_prev_day\tdeaths_since_prev_day\tpopulation\tdate\tlast_update_date\tlast_reported_flag\n",
      "Afghanistan\tAsia\tAF\t746.0\t6.0\t0.0\t0.0\t38041757.0\t2020-12-14\t2023-07-15 00:04:02.382733\tTrue\n",
      "Afghanistan\tAsia\tAF\t298.0\t9.0\t-448.0\t3.0\t38041757.0\t2020-12-13\t2023-07-15 00:04:02.382733\tFalse\n",
      "Afghanistan\tAsia\tAF\t113.0\t11.0\t-185.0\t2.0\t38041757.0\t2020-12-12\t2023-07-15 00:04:02.382733\tFalse\n",
      "*/\u001b[0m\n",
      "Thought:\u001b[32;1m\u001b[1;3m I should query the ecdc_global table for the country with the most deaths\n",
      "Action: sql_db_query\n",
      "Action Input: SELECT country_region, SUM(deaths) AS total_deaths FROM ecdc_global GROUP BY country_region ORDER BY total_deaths DESC LIMIT 10;\u001b[0m\n",
      "Observation: \u001b[36;1m\u001b[1;3m[('United States', 299177.0), ('Brazil', 181402.0), ('India', 143355.0), ('Mexico', 113953.0), ('Italy', 64520.0), ('United_Kingdom', 64170.0), ('France', 57911.0), ('Iran, Islamic Republic of', 52196.0), ('Spain', 47624.0), ('Russian Federation', 46941.0)]\u001b[0m\n",
      "Thought:\u001b[32;1m\u001b[1;3m I now know the final answer\n",
      "Final Answer: The country with the most deaths is the United States with 299177 deaths.\u001b[0m\n",
      "\n",
      "\u001b[1m> Finished chain.\u001b[0m\n"
     ]
    },
    {
     "data": {
      "text/plain": [
       "'The country with the most deaths is the United States with 299177 deaths.'"
      ]
     },
     "execution_count": 35,
     "metadata": {},
     "output_type": "execute_result"
    }
   ],
   "source": [
    "agent_executor.run(\"what is the country with more deaths?\")"
   ]
  }
 ],
 "metadata": {
  "kernelspec": {
   "display_name": "snowpark",
   "language": "python",
   "name": "python3"
  },
  "language_info": {
   "codemirror_mode": {
    "name": "ipython",
    "version": 3
   },
   "file_extension": ".py",
   "mimetype": "text/x-python",
   "name": "python",
   "nbconvert_exporter": "python",
   "pygments_lexer": "ipython3",
   "version": "3.10.11"
  },
  "orig_nbformat": 4
 },
 "nbformat": 4,
 "nbformat_minor": 2
}
