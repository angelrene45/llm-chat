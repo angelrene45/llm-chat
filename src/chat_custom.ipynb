{
 "cells": [
  {
   "cell_type": "code",
   "execution_count": 2,
   "metadata": {},
   "outputs": [
    {
     "data": {
      "text/plain": [
       "True"
      ]
     },
     "execution_count": 2,
     "metadata": {},
     "output_type": "execute_result"
    }
   ],
   "source": [
    "import os\n",
    "\n",
    "from langchain.text_splitter import CharacterTextSplitter\n",
    "from langchain.vectorstores import Chroma\n",
    "from langchain.embeddings.openai import OpenAIEmbeddings\n",
    "from langchain.document_loaders import DirectoryLoader\n",
    "from pydantic import BaseModel\n",
    "\n",
    "# Load environments variables\n",
    "from dotenv import load_dotenv\n",
    "load_dotenv(\"../.streamlit/secrets.toml\") "
   ]
  },
  {
   "cell_type": "markdown",
   "metadata": {},
   "source": [
    "## Get database information using langchain.SQLDatabase\n",
    "Snowflake Database has 43 tables "
   ]
  },
  {
   "cell_type": "code",
   "execution_count": 3,
   "metadata": {},
   "outputs": [],
   "source": [
    "from snowflake.sqlalchemy import URL\n",
    "from langchain import OpenAI, SQLDatabase, SQLDatabaseChain\n",
    "\n",
    "\n",
    "# create snowflake connection\n",
    "uri_snow = URL(\n",
    "    account=os.getenv(\"account\"),\n",
    "    user=os.getenv(\"user\"),\n",
    "    password=os.getenv(\"password\"),\n",
    "    database=os.getenv(\"database\"),\n",
    "    schema=os.getenv(\"schema\"),\n",
    "    warehouse=os.getenv(\"warehouse\"),\n",
    "    role=os.getenv(\"role\"),\n",
    ")\n",
    "\n",
    "# sample 2 tables\n",
    "tables = [\"ecdc_global\", \"goog_global_mobility_report\"]\n",
    "db = SQLDatabase.from_uri(uri_snow, include_tables=tables)\n",
    "\n",
    "# sample all tables\n",
    "# db = SQLDatabase.from_uri(uri_snow)"
   ]
  },
  {
   "cell_type": "code",
   "execution_count": 4,
   "metadata": {},
   "outputs": [
    {
     "data": {
      "text/plain": [
       "'\\nCREATE TABLE ecdc_global (\\n\\tcountry_region VARCHAR(16777216), \\n\\tcontinentexp VARCHAR(16777216), \\n\\tiso3166_1 VARCHAR(2), \\n\\tcases FLOAT, \\n\\tdeaths FLOAT, \\n\\tcases_since_prev_day FLOAT, \\n\\tdeaths_since_prev_day FLOAT, \\n\\tpopulation FLOAT, \\n\\tdate DATE, \\n\\tlast_update_date TIMESTAMP_NTZ, \\n\\tlast_reported_flag BOOLEAN\\n)\\n\\n/*\\n3 rows from ecdc_global table:\\ncountry_region\\tcontinentexp\\tiso3166_1\\tcases\\tdeaths\\tcases_since_prev_day\\tdeaths_since_prev_day\\tpopulation\\tdate\\tlast_update_date\\tlast_reported_flag\\nAfghanistan\\tAsia\\tAF\\t746.0\\t6.0\\t0.0\\t0.0\\t38041757.0\\t2020-12-14\\t2023-07-15 00:04:02.382733\\tTrue\\nAfghanistan\\tAsia\\tAF\\t298.0\\t9.0\\t-448.0\\t3.0\\t38041757.0\\t2020-12-13\\t2023-07-15 00:04:02.382733\\tFalse\\nAfghanistan\\tAsia\\tAF\\t113.0\\t11.0\\t-185.0\\t2.0\\t38041757.0\\t2020-12-12\\t2023-07-15 00:04:02.382733\\tFalse\\n*/\\n\\n\\nCREATE TABLE goog_global_mobility_report (\\n\\tcountry_region VARCHAR(250), \\n\\tprovince_state VARCHAR(250), \\n\\tiso_3166_1 VARCHAR(2), \\n\\tiso_3166_2 VARCHAR(5), \\n\\tdate DATE, \\n\\tgrocery_and_pharmacy_change_perc FLOAT, \\n\\tparks_change_perc FLOAT, \\n\\tresidential_change_perc FLOAT, \\n\\tretail_and_recreation_change_perc FLOAT, \\n\\ttransit_stations_change_perc FLOAT, \\n\\tworkplaces_change_perc FLOAT, \\n\\tlast_update_date TIMESTAMP_NTZ, \\n\\tlast_reported_flag BOOLEAN, \\n\\tsub_region_2 VARCHAR(256)\\n)\\n\\n/*\\n3 rows from goog_global_mobility_report table:\\ncountry_region\\tprovince_state\\tiso_3166_1\\tiso_3166_2\\tdate\\tgrocery_and_pharmacy_change_perc\\tparks_change_perc\\tresidential_change_perc\\tretail_and_recreation_change_perc\\ttransit_stations_change_perc\\tworkplaces_change_perc\\tlast_update_date\\tlast_reported_flag\\tsub_region_2\\nUnited States\\tTennessee\\tUS\\tTN\\t2022-02-24\\t6.0\\t-29.0\\t6.0\\t-10.0\\t-30.0\\t-7.0\\t2023-07-15 00:04:23.220323\\tFalse\\tMontgomery County\\nUnited States\\tTennessee\\tUS\\tTN\\t2022-02-25\\t3.0\\t-17.0\\t4.0\\t-6.0\\t-27.0\\t1.0\\t2023-07-15 00:04:23.220323\\tFalse\\tMontgomery County\\nUnited States\\tTennessee\\tUS\\tTN\\t2022-02-26\\t10.0\\t58.0\\t1.0\\t0.0\\t-23.0\\t11.0\\t2023-07-15 00:04:23.220323\\tFalse\\tMontgomery County\\n*/'"
      ]
     },
     "execution_count": 4,
     "metadata": {},
     "output_type": "execute_result"
    }
   ],
   "source": [
    "# get DDL and 3 rows samples for every table\n",
    "db_info = db.table_info\n",
    "db_info"
   ]
  },
  {
   "cell_type": "code",
   "execution_count": 5,
   "metadata": {},
   "outputs": [],
   "source": [
    "# save database info into\n",
    "with open(\"../docs/database_info.txt\", \"w\") as fp:\n",
    "    fp.write(db_info)"
   ]
  },
  {
   "cell_type": "code",
   "execution_count": 6,
   "metadata": {},
   "outputs": [],
   "source": [
    "# read file\n",
    "with open(\"../docs/database_info.txt\", \"r\") as fp:\n",
    "    text_file = fp.read()"
   ]
  },
  {
   "cell_type": "markdown",
   "metadata": {},
   "source": [
    "### Create langchain documents from tables DDL "
   ]
  },
  {
   "cell_type": "code",
   "execution_count": 7,
   "metadata": {},
   "outputs": [
    {
     "name": "stderr",
     "output_type": "stream",
     "text": [
      "Created a chunk of size 779, which is longer than the specified 0\n"
     ]
    },
    {
     "data": {
      "text/plain": [
       "[Document(page_content='CREATE TABLE ecdc_global (\\n\\tcountry_region VARCHAR(16777216), \\n\\tcontinentexp VARCHAR(16777216), \\n\\tiso3166_1 VARCHAR(2), \\n\\tcases FLOAT, \\n\\tdeaths FLOAT, \\n\\tcases_since_prev_day FLOAT, \\n\\tdeaths_since_prev_day FLOAT, \\n\\tpopulation FLOAT, \\n\\tdate DATE, \\n\\tlast_update_date TIMESTAMP_NTZ, \\n\\tlast_reported_flag BOOLEAN\\n)\\n\\n/*\\n3 rows from ecdc_global table:\\ncountry_region\\tcontinentexp\\tiso3166_1\\tcases\\tdeaths\\tcases_since_prev_day\\tdeaths_since_prev_day\\tpopulation\\tdate\\tlast_update_date\\tlast_reported_flag\\nAfghanistan\\tAsia\\tAF\\t746.0\\t6.0\\t0.0\\t0.0\\t38041757.0\\t2020-12-14\\t2023-07-15 00:04:02.382733\\tTrue\\nAfghanistan\\tAsia\\tAF\\t298.0\\t9.0\\t-448.0\\t3.0\\t38041757.0\\t2020-12-13\\t2023-07-15 00:04:02.382733\\tFalse\\nAfghanistan\\tAsia\\tAF\\t113.0\\t11.0\\t-185.0\\t2.0\\t38041757.0\\t2020-12-12\\t2023-07-15 00:04:02.382733\\tFalse\\n*/', metadata={'document': 'database_info.txt'}),\n",
       " Document(page_content='CREATE TABLE goog_global_mobility_report (\\n\\tcountry_region VARCHAR(250), \\n\\tprovince_state VARCHAR(250), \\n\\tiso_3166_1 VARCHAR(2), \\n\\tiso_3166_2 VARCHAR(5), \\n\\tdate DATE, \\n\\tgrocery_and_pharmacy_change_perc FLOAT, \\n\\tparks_change_perc FLOAT, \\n\\tresidential_change_perc FLOAT, \\n\\tretail_and_recreation_change_perc FLOAT, \\n\\ttransit_stations_change_perc FLOAT, \\n\\tworkplaces_change_perc FLOAT, \\n\\tlast_update_date TIMESTAMP_NTZ, \\n\\tlast_reported_flag BOOLEAN, \\n\\tsub_region_2 VARCHAR(256)\\n)\\n\\n/*\\n3 rows from goog_global_mobility_report table:\\ncountry_region\\tprovince_state\\tiso_3166_1\\tiso_3166_2\\tdate\\tgrocery_and_pharmacy_change_perc\\tparks_change_perc\\tresidential_change_perc\\tretail_and_recreation_change_perc\\ttransit_stations_change_perc\\tworkplaces_change_perc\\tlast_update_date\\tlast_reported_flag\\tsub_region_2\\nUnited States\\tTennessee\\tUS\\tTN\\t2022-02-24\\t6.0\\t-29.0\\t6.0\\t-10.0\\t-30.0\\t-7.0\\t2023-07-15 00:04:23.220323\\tFalse\\tMontgomery County\\nUnited States\\tTennessee\\tUS\\tTN\\t2022-02-25\\t3.0\\t-17.0\\t4.0\\t-6.0\\t-27.0\\t1.0\\t2023-07-15 00:04:23.220323\\tFalse\\tMontgomery County\\nUnited States\\tTennessee\\tUS\\tTN\\t2022-02-26\\t10.0\\t58.0\\t1.0\\t0.0\\t-23.0\\t11.0\\t2023-07-15 00:04:23.220323\\tFalse\\tMontgomery County\\n*/', metadata={'document': 'database_info.txt'})]"
      ]
     },
     "execution_count": 7,
     "metadata": {},
     "output_type": "execute_result"
    }
   ],
   "source": [
    "from langchain.text_splitter import CharacterTextSplitter\n",
    "\n",
    "text_splitter = CharacterTextSplitter(        \n",
    "    separator = \"\\n\\n\\n\",\n",
    "    chunk_size = 0,\n",
    "    chunk_overlap = 0,\n",
    "    length_function = len\n",
    ")\n",
    "\n",
    "# Split document\n",
    "# texts_split = text_file.split(\"\\n\\n\\n\")\n",
    "texts_split = text_splitter.split_text(text_file)\n",
    "metadatas = [ {\"document\": \"database_info.txt\"} for _ in texts_split]\n",
    "docs = text_splitter.create_documents(texts_split, metadatas)\n",
    "docs"
   ]
  },
  {
   "cell_type": "markdown",
   "metadata": {},
   "source": [
    "### Create embeddings and save database in local using Chroma and OpenAIEmbeddings\n",
    "- Generate the embeddings using openAI with documents from above cell \n",
    "- Create the database in Chroma (local)"
   ]
  },
  {
   "cell_type": "code",
   "execution_count": 8,
   "metadata": {},
   "outputs": [
    {
     "name": "stderr",
     "output_type": "stream",
     "text": [
      "El sistema no puede encontrar el archivo especificado.\n"
     ]
    },
    {
     "data": {
      "text/plain": [
       "{'ids': ['95a7896f-236b-11ee-9067-ac7ed0d21e7b'],\n",
       " 'embeddings': None,\n",
       " 'documents': ['CREATE TABLE ecdc_global (\\n\\tcountry_region VARCHAR(16777216), \\n\\tcontinentexp VARCHAR(16777216), \\n\\tiso3166_1 VARCHAR(2), \\n\\tcases FLOAT, \\n\\tdeaths FLOAT, \\n\\tcases_since_prev_day FLOAT, \\n\\tdeaths_since_prev_day FLOAT, \\n\\tpopulation FLOAT, \\n\\tdate DATE, \\n\\tlast_update_date TIMESTAMP_NTZ, \\n\\tlast_reported_flag BOOLEAN\\n)\\n\\n/*\\n3 rows from ecdc_global table:\\ncountry_region\\tcontinentexp\\tiso3166_1\\tcases\\tdeaths\\tcases_since_prev_day\\tdeaths_since_prev_day\\tpopulation\\tdate\\tlast_update_date\\tlast_reported_flag\\nAfghanistan\\tAsia\\tAF\\t746.0\\t6.0\\t0.0\\t0.0\\t38041757.0\\t2020-12-14\\t2023-07-15 00:04:02.382733\\tTrue\\nAfghanistan\\tAsia\\tAF\\t298.0\\t9.0\\t-448.0\\t3.0\\t38041757.0\\t2020-12-13\\t2023-07-15 00:04:02.382733\\tFalse\\nAfghanistan\\tAsia\\tAF\\t113.0\\t11.0\\t-185.0\\t2.0\\t38041757.0\\t2020-12-12\\t2023-07-15 00:04:02.382733\\tFalse\\n*/'],\n",
       " 'metadatas': [{'document': 'database_info.txt'}]}"
      ]
     },
     "execution_count": 8,
     "metadata": {},
     "output_type": "execute_result"
    }
   ],
   "source": [
    "# remove folder and avoid conflicts\n",
    "! rmdir /s /q \"../chroma_db\"\n",
    "\n",
    "# create object for embeddings using OpenAI\n",
    "embeddings = OpenAIEmbeddings()\n",
    "\n",
    "# create database and save embeddings in local\n",
    "vector_store = Chroma.from_documents(docs, embeddings, persist_directory=\"../chroma_db\")\n",
    "vector_store.persist()\n",
    "\n",
    "# get first embedding in database \n",
    "# vector_store.get(limit=1, include=['embeddings', 'documents', 'metadatas'])\n",
    "vector_store.get(limit=1)"
   ]
  },
  {
   "cell_type": "code",
   "execution_count": 9,
   "metadata": {},
   "outputs": [
    {
     "data": {
      "text/plain": [
       "2"
      ]
     },
     "execution_count": 9,
     "metadata": {},
     "output_type": "execute_result"
    }
   ],
   "source": [
    "vector_store._collection.count()"
   ]
  },
  {
   "cell_type": "code",
   "execution_count": 38,
   "metadata": {},
   "outputs": [
    {
     "name": "stderr",
     "output_type": "stream",
     "text": [
      "Number of requested results 4 is greater than number of elements in index 2, updating n_results = 2\n"
     ]
    },
    {
     "data": {
      "text/plain": [
       "[Document(page_content='CREATE TABLE ecdc_global (\\n\\tcountry_region VARCHAR(16777216), \\n\\tcontinentexp VARCHAR(16777216), \\n\\tiso3166_1 VARCHAR(2), \\n\\tcases FLOAT, \\n\\tdeaths FLOAT, \\n\\tcases_since_prev_day FLOAT, \\n\\tdeaths_since_prev_day FLOAT, \\n\\tpopulation FLOAT, \\n\\tdate DATE, \\n\\tlast_update_date TIMESTAMP_NTZ, \\n\\tlast_reported_flag BOOLEAN\\n)\\n\\n/*\\n3 rows from ecdc_global table:\\ncountry_region\\tcontinentexp\\tiso3166_1\\tcases\\tdeaths\\tcases_since_prev_day\\tdeaths_since_prev_day\\tpopulation\\tdate\\tlast_update_date\\tlast_reported_flag\\nAfghanistan\\tAsia\\tAF\\t746.0\\t6.0\\t0.0\\t0.0\\t38041757.0\\t2020-12-14\\t2023-07-15 00:04:02.382733\\tTrue\\nAfghanistan\\tAsia\\tAF\\t298.0\\t9.0\\t-448.0\\t3.0\\t38041757.0\\t2020-12-13\\t2023-07-15 00:04:02.382733\\tFalse\\nAfghanistan\\tAsia\\tAF\\t113.0\\t11.0\\t-185.0\\t2.0\\t38041757.0\\t2020-12-12\\t2023-07-15 00:04:02.382733\\tFalse\\n*/', metadata={'document': 'database_info.txt'}),\n",
       " Document(page_content='CREATE TABLE goog_global_mobility_report (\\n\\tcountry_region VARCHAR(250), \\n\\tprovince_state VARCHAR(250), \\n\\tiso_3166_1 VARCHAR(2), \\n\\tiso_3166_2 VARCHAR(5), \\n\\tdate DATE, \\n\\tgrocery_and_pharmacy_change_perc FLOAT, \\n\\tparks_change_perc FLOAT, \\n\\tresidential_change_perc FLOAT, \\n\\tretail_and_recreation_change_perc FLOAT, \\n\\ttransit_stations_change_perc FLOAT, \\n\\tworkplaces_change_perc FLOAT, \\n\\tlast_update_date TIMESTAMP_NTZ, \\n\\tlast_reported_flag BOOLEAN, \\n\\tsub_region_2 VARCHAR(256)\\n)\\n\\n/*\\n3 rows from goog_global_mobility_report table:\\ncountry_region\\tprovince_state\\tiso_3166_1\\tiso_3166_2\\tdate\\tgrocery_and_pharmacy_change_perc\\tparks_change_perc\\tresidential_change_perc\\tretail_and_recreation_change_perc\\ttransit_stations_change_perc\\tworkplaces_change_perc\\tlast_update_date\\tlast_reported_flag\\tsub_region_2\\nUnited States\\tTennessee\\tUS\\tTN\\t2022-02-24\\t6.0\\t-29.0\\t6.0\\t-10.0\\t-30.0\\t-7.0\\t2023-07-15 00:04:23.220323\\tFalse\\tMontgomery County\\nUnited States\\tTennessee\\tUS\\tTN\\t2022-02-25\\t3.0\\t-17.0\\t4.0\\t-6.0\\t-27.0\\t1.0\\t2023-07-15 00:04:23.220323\\tFalse\\tMontgomery County\\nUnited States\\tTennessee\\tUS\\tTN\\t2022-02-26\\t10.0\\t58.0\\t1.0\\t0.0\\t-23.0\\t11.0\\t2023-07-15 00:04:23.220323\\tFalse\\tMontgomery County\\n*/', metadata={'document': 'database_info.txt'})]"
      ]
     },
     "execution_count": 38,
     "metadata": {},
     "output_type": "execute_result"
    }
   ],
   "source": [
    "# load from disk \n",
    "vector_store = Chroma(persist_directory=\"../chroma_db\", embedding_function=embeddings)\n",
    "docs = vector_store.similarity_search(\"which table contains the names of countries\")\n",
    "docs"
   ]
  },
  {
   "cell_type": "code",
   "execution_count": 39,
   "metadata": {},
   "outputs": [
    {
     "name": "stderr",
     "output_type": "stream",
     "text": [
      "Number of requested results 4 is greater than number of elements in index 2, updating n_results = 2\n"
     ]
    },
    {
     "data": {
      "text/plain": [
       "[Document(page_content='CREATE TABLE goog_global_mobility_report (\\n\\tcountry_region VARCHAR(250), \\n\\tprovince_state VARCHAR(250), \\n\\tiso_3166_1 VARCHAR(2), \\n\\tiso_3166_2 VARCHAR(5), \\n\\tdate DATE, \\n\\tgrocery_and_pharmacy_change_perc FLOAT, \\n\\tparks_change_perc FLOAT, \\n\\tresidential_change_perc FLOAT, \\n\\tretail_and_recreation_change_perc FLOAT, \\n\\ttransit_stations_change_perc FLOAT, \\n\\tworkplaces_change_perc FLOAT, \\n\\tlast_update_date TIMESTAMP_NTZ, \\n\\tlast_reported_flag BOOLEAN, \\n\\tsub_region_2 VARCHAR(256)\\n)\\n\\n/*\\n3 rows from goog_global_mobility_report table:\\ncountry_region\\tprovince_state\\tiso_3166_1\\tiso_3166_2\\tdate\\tgrocery_and_pharmacy_change_perc\\tparks_change_perc\\tresidential_change_perc\\tretail_and_recreation_change_perc\\ttransit_stations_change_perc\\tworkplaces_change_perc\\tlast_update_date\\tlast_reported_flag\\tsub_region_2\\nUnited States\\tTennessee\\tUS\\tTN\\t2022-02-24\\t6.0\\t-29.0\\t6.0\\t-10.0\\t-30.0\\t-7.0\\t2023-07-15 00:04:23.220323\\tFalse\\tMontgomery County\\nUnited States\\tTennessee\\tUS\\tTN\\t2022-02-25\\t3.0\\t-17.0\\t4.0\\t-6.0\\t-27.0\\t1.0\\t2023-07-15 00:04:23.220323\\tFalse\\tMontgomery County\\nUnited States\\tTennessee\\tUS\\tTN\\t2022-02-26\\t10.0\\t58.0\\t1.0\\t0.0\\t-23.0\\t11.0\\t2023-07-15 00:04:23.220323\\tFalse\\tMontgomery County\\n*/', metadata={'document': 'database_info.txt'}),\n",
       " Document(page_content='CREATE TABLE ecdc_global (\\n\\tcountry_region VARCHAR(16777216), \\n\\tcontinentexp VARCHAR(16777216), \\n\\tiso3166_1 VARCHAR(2), \\n\\tcases FLOAT, \\n\\tdeaths FLOAT, \\n\\tcases_since_prev_day FLOAT, \\n\\tdeaths_since_prev_day FLOAT, \\n\\tpopulation FLOAT, \\n\\tdate DATE, \\n\\tlast_update_date TIMESTAMP_NTZ, \\n\\tlast_reported_flag BOOLEAN\\n)\\n\\n/*\\n3 rows from ecdc_global table:\\ncountry_region\\tcontinentexp\\tiso3166_1\\tcases\\tdeaths\\tcases_since_prev_day\\tdeaths_since_prev_day\\tpopulation\\tdate\\tlast_update_date\\tlast_reported_flag\\nAfghanistan\\tAsia\\tAF\\t746.0\\t6.0\\t0.0\\t0.0\\t38041757.0\\t2020-12-14\\t2023-07-15 00:04:02.382733\\tTrue\\nAfghanistan\\tAsia\\tAF\\t298.0\\t9.0\\t-448.0\\t3.0\\t38041757.0\\t2020-12-13\\t2023-07-15 00:04:02.382733\\tFalse\\nAfghanistan\\tAsia\\tAF\\t113.0\\t11.0\\t-185.0\\t2.0\\t38041757.0\\t2020-12-12\\t2023-07-15 00:04:02.382733\\tFalse\\n*/', metadata={'document': 'database_info.txt'})]"
      ]
     },
     "execution_count": 39,
     "metadata": {},
     "output_type": "execute_result"
    }
   ],
   "source": [
    "# search document which better match from question\n",
    "vector_store.similarity_search(\"which table contains the id for payment\")"
   ]
  },
  {
   "cell_type": "markdown",
   "metadata": {},
   "source": [
    "# Create chat"
   ]
  },
  {
   "cell_type": "code",
   "execution_count": 60,
   "metadata": {},
   "outputs": [],
   "source": [
    "from langchain.prompts.prompt import PromptTemplate\n",
    "\n",
    "template_questions = \"\"\"Considering the provided chat history and a subsequent question, rewrite the follow-up question to be an independent query. Alternatively, conclude the conversation if it appears to be complete.\n",
    "Chat History:\\\"\"\"\n",
    "{chat_history}\n",
    "\\\"\"\"\n",
    "Follow Up Input: \\\"\"\"\n",
    "{question}\n",
    "\\\"\"\"\n",
    "Standalone question:\"\"\"\n",
    "\n",
    "\n",
    "template_qa = \"\"\" \n",
    "You will be acting as an AI Snowflake SQL Expert. \n",
    "Your goal is to give correct, executable sql query to users.\n",
    "When providing responses, strive to exhibit friendliness and adopt a conversational tone, similar to how a friend or tutor would communicate.\n",
    "When asked about your capabilities, provide a general overview of your ability to assist with data analysis tasks using Snowflake SQL, instead of performing specific SQL queries. \n",
    "Based on the question provided, if it pertains to data analysis or SQL tasks, generate SQL code that is compatible with the Snowflake environment with limit 10. Additionally, offer a brief explanation about how you arrived at the SQL code. If the required column isn't explicitly stated in the context, suggest an alternative using available columns, but do not assume the existence of any columns that are not mentioned. Also, do not modify the database in any way (no insert, update, or delete operations). You are only allowed to query the database. Refrain from using the information schema.\n",
    "If the question or context does not clearly involve SQL or data analysis tasks, respond appropriately without generating SQL queries. \n",
    "When the user expresses gratitude or says \"Thanks\", interpret it as a signal to conclude the conversation. Respond with an appropriate closing statement without generating further SQL queries.\n",
    "If you don't know the answer, simply state, \"I'm sorry, I don't know the answer to your question.\"\n",
    "Don't forget to use \"ilike %keyword%\" for fuzzy match queries (especially for variable_name column)\n",
    "Write your response in markdown format.\n",
    "\n",
    "Now to get started, please briefly introduce yourself, describe the table at a high level, and share the available metrics in 2-3 sentences.\n",
    "Then provide 3 example questions using bullet points.\n",
    "\n",
    "Question: ```{question}```\n",
    "{context}\n",
    "\n",
    "\n",
    "Answer:\n",
    "\"\"\"\n",
    "\n",
    "condense_question_prompt = PromptTemplate.from_template(template_questions)\n",
    "prompt_qa = PromptTemplate(template=template_qa, input_variables=[\"question\", \"context\"])"
   ]
  },
  {
   "cell_type": "code",
   "execution_count": 61,
   "metadata": {},
   "outputs": [
    {
     "data": {
      "text/plain": [
       "PromptTemplate(input_variables=['chat_history', 'question'], output_parser=None, partial_variables={}, template='Considering the provided chat history and a subsequent question, rewrite the follow-up question to be an independent query. Alternatively, conclude the conversation if it appears to be complete.\\nChat History:\"\"\"\\n{chat_history}\\n\"\"\"\\nFollow Up Input: \"\"\"\\n{question}\\n\"\"\"\\nStandalone question:', template_format='f-string', validate_template=True)"
      ]
     },
     "execution_count": 61,
     "metadata": {},
     "output_type": "execute_result"
    }
   ],
   "source": [
    "condense_question_prompt"
   ]
  },
  {
   "cell_type": "code",
   "execution_count": 58,
   "metadata": {},
   "outputs": [],
   "source": [
    "from langchain.chat_models import ChatOpenAI\n",
    "from langchain.chains import ConversationalRetrievalChain, LLMChain\n",
    "from langchain.chains.question_answering import load_qa_chain\n",
    "\n",
    "q_llm = ChatOpenAI(\n",
    "    model_name=\"gpt-3.5-turbo-16k\",\n",
    "    temperature=0.1,\n",
    "    max_tokens=500\n",
    ")\n",
    "\n",
    "llm = ChatOpenAI(\n",
    "    model_name=\"gpt-3.5-turbo\",\n",
    "    temperature=0.5,\n",
    "    max_tokens=500,\n",
    "    # streaming=True,\n",
    ")\n",
    "\n",
    "question_generator = LLMChain(llm=q_llm, prompt=condense_question_prompt)\n",
    "\n",
    "doc_chain = load_qa_chain(llm=llm, chain_type=\"stuff\", prompt=prompt_qa)\n",
    "conv_chain = ConversationalRetrievalChain(\n",
    "    retriever=vector_store.as_retriever(),\n",
    "    combine_docs_chain=doc_chain,\n",
    "    question_generator=question_generator\n",
    ")"
   ]
  },
  {
   "cell_type": "code",
   "execution_count": 59,
   "metadata": {},
   "outputs": [
    {
     "name": "stderr",
     "output_type": "stream",
     "text": [
      "Number of requested results 4 is greater than number of elements in index 2, updating n_results = 2\n"
     ]
    },
    {
     "name": "stdout",
     "output_type": "stream",
     "text": [
      "Hello! I am an AI Snowflake SQL Expert and I'm here to assist you with your data analysis tasks using Snowflake SQL. I have access to two tables: `goog_global_mobility_report` and `ecdc_global`. \n",
      "\n",
      "The `goog_global_mobility_report` table contains information about global mobility trends, such as changes in grocery and pharmacy visits, parks visits, residential activity, retail and recreation visits, transit station visits, and workplace visits. It also includes details like the country, province/state, ISO codes, date, last update date, and sub-region.\n",
      "\n",
      "The `ecdc_global` table contains global COVID-19 data, including the number of cases, deaths, cases since the previous day, deaths since the previous day, population, date, last update date, and a flag indicating if the data was last reported.\n",
      "\n",
      "Now, let's move on to your questions! Please keep in mind that I can only provide SQL queries for data analysis tasks.\n",
      "\n",
      "1. What are the countries with the highest number of COVID-19 cases?\n",
      "2. Can you show the mobility trends for a specific province/state in the United States?\n",
      "3. Is there a correlation between the number of COVID-19 cases and changes in workplace visits?\n",
      "\n",
      "Please let me know if you have any other questions or if there's anything else I can assist you with!\n"
     ]
    }
   ],
   "source": [
    "result = conv_chain(\n",
    "            {\"question\": \"hola\", \"chat_history\": []}\n",
    "        )\n",
    "answer = result[\"answer\"]\n",
    "print(answer)"
   ]
  },
  {
   "cell_type": "code",
   "execution_count": 48,
   "metadata": {},
   "outputs": [
    {
     "data": {
      "text/plain": [
       "{'question': 'Give me the different countries in table ecdc_global',\n",
       " 'chat_history': [],\n",
       " 'answer': \"To retrieve the different countries in the `ecdc_global` table, you can use the following SQL query:\\n\\n```sql\\nSELECT DISTINCT country_region\\nFROM ecdc_global\\nLIMIT 10;\\n```\\n\\nThis query selects the distinct values from the `country_region` column in the `ecdc_global` table. The `DISTINCT` keyword ensures that only unique values are returned. The `LIMIT 10` clause limits the result to 10 rows.\\n\\nPlease note that the query may return fewer than 10 rows if there are fewer unique countries in the table.\\n\\nLet me know if there's anything else I can help you with!\",\n",
       " 'source_documents': [Document(page_content='CREATE TABLE ecdc_global (\\n\\tcountry_region VARCHAR(16777216), \\n\\tcontinentexp VARCHAR(16777216), \\n\\tiso3166_1 VARCHAR(2), \\n\\tcases FLOAT, \\n\\tdeaths FLOAT, \\n\\tcases_since_prev_day FLOAT, \\n\\tdeaths_since_prev_day FLOAT, \\n\\tpopulation FLOAT, \\n\\tdate DATE, \\n\\tlast_update_date TIMESTAMP_NTZ, \\n\\tlast_reported_flag BOOLEAN\\n)\\n\\n/*\\n3 rows from ecdc_global table:\\ncountry_region\\tcontinentexp\\tiso3166_1\\tcases\\tdeaths\\tcases_since_prev_day\\tdeaths_since_prev_day\\tpopulation\\tdate\\tlast_update_date\\tlast_reported_flag\\nAfghanistan\\tAsia\\tAF\\t746.0\\t6.0\\t0.0\\t0.0\\t38041757.0\\t2020-12-14\\t2023-07-15 00:04:02.382733\\tTrue\\nAfghanistan\\tAsia\\tAF\\t298.0\\t9.0\\t-448.0\\t3.0\\t38041757.0\\t2020-12-13\\t2023-07-15 00:04:02.382733\\tFalse\\nAfghanistan\\tAsia\\tAF\\t113.0\\t11.0\\t-185.0\\t2.0\\t38041757.0\\t2020-12-12\\t2023-07-15 00:04:02.382733\\tFalse\\n*/', metadata={'document': 'database_info.txt'}),\n",
       "  Document(page_content='CREATE TABLE goog_global_mobility_report (\\n\\tcountry_region VARCHAR(250), \\n\\tprovince_state VARCHAR(250), \\n\\tiso_3166_1 VARCHAR(2), \\n\\tiso_3166_2 VARCHAR(5), \\n\\tdate DATE, \\n\\tgrocery_and_pharmacy_change_perc FLOAT, \\n\\tparks_change_perc FLOAT, \\n\\tresidential_change_perc FLOAT, \\n\\tretail_and_recreation_change_perc FLOAT, \\n\\ttransit_stations_change_perc FLOAT, \\n\\tworkplaces_change_perc FLOAT, \\n\\tlast_update_date TIMESTAMP_NTZ, \\n\\tlast_reported_flag BOOLEAN, \\n\\tsub_region_2 VARCHAR(256)\\n)\\n\\n/*\\n3 rows from goog_global_mobility_report table:\\ncountry_region\\tprovince_state\\tiso_3166_1\\tiso_3166_2\\tdate\\tgrocery_and_pharmacy_change_perc\\tparks_change_perc\\tresidential_change_perc\\tretail_and_recreation_change_perc\\ttransit_stations_change_perc\\tworkplaces_change_perc\\tlast_update_date\\tlast_reported_flag\\tsub_region_2\\nUnited States\\tTennessee\\tUS\\tTN\\t2022-02-24\\t6.0\\t-29.0\\t6.0\\t-10.0\\t-30.0\\t-7.0\\t2023-07-15 00:04:23.220323\\tFalse\\tMontgomery County\\nUnited States\\tTennessee\\tUS\\tTN\\t2022-02-25\\t3.0\\t-17.0\\t4.0\\t-6.0\\t-27.0\\t1.0\\t2023-07-15 00:04:23.220323\\tFalse\\tMontgomery County\\nUnited States\\tTennessee\\tUS\\tTN\\t2022-02-26\\t10.0\\t58.0\\t1.0\\t0.0\\t-23.0\\t11.0\\t2023-07-15 00:04:23.220323\\tFalse\\tMontgomery County\\n*/', metadata={'document': 'database_info.txt'})]}"
      ]
     },
     "execution_count": 48,
     "metadata": {},
     "output_type": "execute_result"
    }
   ],
   "source": [
    "result"
   ]
  }
 ],
 "metadata": {
  "kernelspec": {
   "display_name": "snowpark",
   "language": "python",
   "name": "python3"
  },
  "language_info": {
   "codemirror_mode": {
    "name": "ipython",
    "version": 3
   },
   "file_extension": ".py",
   "mimetype": "text/x-python",
   "name": "python",
   "nbconvert_exporter": "python",
   "pygments_lexer": "ipython3",
   "version": "3.10.11"
  },
  "orig_nbformat": 4
 },
 "nbformat": 4,
 "nbformat_minor": 2
}
