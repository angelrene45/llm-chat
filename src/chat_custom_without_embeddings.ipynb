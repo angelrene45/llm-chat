{
 "cells": [
  {
   "cell_type": "markdown",
   "metadata": {},
   "source": [
    "## Load environment variable"
   ]
  },
  {
   "cell_type": "code",
   "execution_count": 26,
   "metadata": {},
   "outputs": [
    {
     "data": {
      "text/plain": [
       "True"
      ]
     },
     "execution_count": 26,
     "metadata": {},
     "output_type": "execute_result"
    }
   ],
   "source": [
    "# Load environments variables\n",
    "from dotenv import load_dotenv\n",
    "load_dotenv(\"../.streamlit/secrets.toml\") "
   ]
  },
  {
   "cell_type": "code",
   "execution_count": 25,
   "metadata": {},
   "outputs": [],
   "source": [
    "import re\n",
    "\n",
    "# function for retrieve sql from markdown\n",
    "def get_sql(text):\n",
    "    sql_match = re.search(r\"```sql\\n(.*)\\n```\", text, re.DOTALL)\n",
    "    return sql_match.group(1) if sql_match else None"
   ]
  },
  {
   "cell_type": "markdown",
   "metadata": {},
   "source": [
    "## Get database information using langchain.SQLDatabase\n",
    "Snowflake Database has 43 tables "
   ]
  },
  {
   "cell_type": "code",
   "execution_count": 2,
   "metadata": {},
   "outputs": [],
   "source": [
    "import os\n",
    "from snowflake.sqlalchemy import URL\n",
    "from langchain import OpenAI, SQLDatabase, SQLDatabaseChain\n",
    "\n",
    "# create snowflake connection uri\n",
    "uri_snow = URL(\n",
    "    account=os.getenv(\"account\"),\n",
    "    user=os.getenv(\"user\"),\n",
    "    password=os.getenv(\"password\"),\n",
    "    database=os.getenv(\"database\"),\n",
    "    schema=os.getenv(\"schema\"),\n",
    "    warehouse=os.getenv(\"warehouse\"),\n",
    "    role=os.getenv(\"role\"),\n",
    ")\n",
    "\n",
    "# generate prompt 2 tables\n",
    "tables = [\"ecdc_global\", \"goog_global_mobility_report\", \"databank_demographics\"]\n",
    "db = SQLDatabase.from_uri(uri_snow, include_tables=tables)\n",
    "# sample all tables\n",
    "# db = SQLDatabase.from_uri(uri_snow)"
   ]
  },
  {
   "cell_type": "code",
   "execution_count": 4,
   "metadata": {},
   "outputs": [
    {
     "data": {
      "text/plain": [
       "'\\nCREATE TABLE databank_demographics (\\n\\tiso3166_1 VARCHAR(16777216), \\n\\tiso3166_2 VARCHAR(16777216), \\n\\tfips VARCHAR(16777216), \\n\\tlatitude FLOAT, \\n\\tlongitude FLOAT, \\n\\tstate VARCHAR(16777216), \\n\\tcounty VARCHAR(16777216), \\n\\ttotal_population DECIMAL(38, 0), \\n\\ttotal_male_population DECIMAL(38, 0), \\n\\ttotal_female_population DECIMAL(38, 0), \\n\\tcountry_region VARCHAR(250)\\n)\\n\\n/*\\n3 rows from databank_demographics table:\\niso3166_1\\tiso3166_2\\tfips\\tlatitude\\tlongitude\\tstate\\tcounty\\ttotal_population\\ttotal_male_population\\ttotal_female_population\\tcountry_region\\nAF\\tNone\\tNone\\t33.0\\t65.0\\tNone\\tNone\\t37172386\\t19093281\\t18079105\\tAfghanistan\\nAL\\tNone\\tNone\\t41.0\\t20.0\\tNone\\tNone\\t2866376\\t1460043\\t1406333\\tAlbania\\nDZ\\tNone\\tNone\\t28.0\\t3.0\\tNone\\tNone\\t42228429\\t21332000\\t20896429\\tAlgeria\\n*/\\n\\n\\nCREATE TABLE ecdc_global (\\n\\tcountry_region VARCHAR(16777216), \\n\\tcontinentexp VARCHAR(16777216), \\n\\tiso3166_1 VARCHAR(2), \\n\\tcases FLOAT, \\n\\tdeaths FLOAT, \\n\\tcases_since_prev_day FLOAT, \\n\\tdeaths_since_prev_day FLOAT, \\n\\tpopulation FLOAT, \\n\\tdate DATE, \\n\\tlast_update_date TIMESTAMP_NTZ, \\n\\tlast_reported_flag BOOLEAN\\n)\\n\\n/*\\n3 rows from ecdc_global table:\\ncountry_region\\tcontinentexp\\tiso3166_1\\tcases\\tdeaths\\tcases_since_prev_day\\tdeaths_since_prev_day\\tpopulation\\tdate\\tlast_update_date\\tlast_reported_flag\\nAlbania\\tEurope\\tAL\\t788.0\\t14.0\\t0.0\\t0.0\\t2862427.0\\t2020-12-14\\t2023-07-19 00:02:41.691935\\tTrue\\nAlbania\\tEurope\\tAL\\t879.0\\t12.0\\t91.0\\t-2.0\\t2862427.0\\t2020-12-13\\t2023-07-19 00:02:41.691935\\tFalse\\nAlbania\\tEurope\\tAL\\t802.0\\t12.0\\t-77.0\\t0.0\\t2862427.0\\t2020-12-12\\t2023-07-19 00:02:41.691935\\tFalse\\n*/\\n\\n\\nCREATE TABLE goog_global_mobility_report (\\n\\tcountry_region VARCHAR(250), \\n\\tprovince_state VARCHAR(250), \\n\\tiso_3166_1 VARCHAR(2), \\n\\tiso_3166_2 VARCHAR(5), \\n\\tdate DATE, \\n\\tgrocery_and_pharmacy_change_perc FLOAT, \\n\\tparks_change_perc FLOAT, \\n\\tresidential_change_perc FLOAT, \\n\\tretail_and_recreation_change_perc FLOAT, \\n\\ttransit_stations_change_perc FLOAT, \\n\\tworkplaces_change_perc FLOAT, \\n\\tlast_update_date TIMESTAMP_NTZ, \\n\\tlast_reported_flag BOOLEAN, \\n\\tsub_region_2 VARCHAR(256)\\n)\\n\\n/*\\n3 rows from goog_global_mobility_report table:\\ncountry_region\\tprovince_state\\tiso_3166_1\\tiso_3166_2\\tdate\\tgrocery_and_pharmacy_change_perc\\tparks_change_perc\\tresidential_change_perc\\tretail_and_recreation_change_perc\\ttransit_stations_change_perc\\tworkplaces_change_perc\\tlast_update_date\\tlast_reported_flag\\tsub_region_2\\nUnited States\\tTennessee\\tUS\\tTN\\t2022-02-24\\t6.0\\t-29.0\\t6.0\\t-10.0\\t-30.0\\t-7.0\\t2023-07-19 00:03:51.877503\\tFalse\\tMontgomery County\\nUnited States\\tTennessee\\tUS\\tTN\\t2022-02-25\\t3.0\\t-17.0\\t4.0\\t-6.0\\t-27.0\\t1.0\\t2023-07-19 00:03:51.877503\\tFalse\\tMontgomery County\\nUnited States\\tTennessee\\tUS\\tTN\\t2022-02-26\\t10.0\\t58.0\\t1.0\\t0.0\\t-23.0\\t11.0\\t2023-07-19 00:03:51.877503\\tFalse\\tMontgomery County\\n*/'"
      ]
     },
     "execution_count": 4,
     "metadata": {},
     "output_type": "execute_result"
    }
   ],
   "source": [
    "# get DDL and 3 rows samples for every table\n",
    "db_info = db.table_info\n",
    "db_info"
   ]
  },
  {
   "cell_type": "code",
   "execution_count": 5,
   "metadata": {},
   "outputs": [],
   "source": [
    "# save database info into\n",
    "with open(\"../docs/database_info.txt\", \"w\") as fp:\n",
    "    fp.write(db_info)"
   ]
  },
  {
   "cell_type": "markdown",
   "metadata": {},
   "source": [
    "# Create chat"
   ]
  },
  {
   "cell_type": "code",
   "execution_count": 7,
   "metadata": {},
   "outputs": [],
   "source": [
    "from langchain.prompts.prompt import PromptTemplate\n",
    "\n",
    "template_qa = \"\"\" \n",
    "You're an AI assistant specializing in data analysis with Snowflake SQL. When providing responses, strive to exhibit friendliness and adopt a conversational tone, similar to how a friend or tutor would communicate.\n",
    "When asked about your capabilities, provide a general overview of your ability to assist with data analysis tasks using Snowflake SQL, instead of performing specific SQL queries. \n",
    "Based on the question provided, if it pertains to data analysis or SQL tasks, generate SQL code that is compatible with the Snowflake environment. Additionally, offer a brief explanation about how you arrived at the SQL code. If the required column isn't explicitly stated in the context, suggest an alternative using available columns, but do not assume the existence of any columns that are not mentioned. Also, do not modify the database in any way (no insert, update, or delete operations). You are only allowed to query the database. Refrain from using the information schema.\n",
    "If the question or context does not clearly involve SQL or data analysis tasks, respond appropriately without generating SQL queries. \n",
    "When the user expresses gratitude or says \"Thanks\", interpret it as a signal to conclude the conversation. Respond with an appropriate closing statement without generating further SQL queries.\n",
    "If you don't know the answer, simply state, \"I'm sorry, I don't know the answer to your question.\"\n",
    "Write your response in markdown format.\n",
    "\n",
    "CREATE TABLE databank_demographics (\n",
    "\tiso3166_1 VARCHAR(16777216), \n",
    "\tiso3166_2 VARCHAR(16777216), \n",
    "\tfips VARCHAR(16777216), \n",
    "\tlatitude FLOAT, \n",
    "\tlongitude FLOAT, \n",
    "\tstate VARCHAR(16777216), \n",
    "\tcounty VARCHAR(16777216), \n",
    "\ttotal_population DECIMAL(38, 0), \n",
    "\ttotal_male_population DECIMAL(38, 0), \n",
    "\ttotal_female_population DECIMAL(38, 0), \n",
    "\tcountry_region VARCHAR(250)\n",
    ")\n",
    "\n",
    "/*\n",
    "3 rows from databank_demographics table:\n",
    "iso3166_1\tiso3166_2\tfips\tlatitude\tlongitude\tstate\tcounty\ttotal_population\ttotal_male_population\ttotal_female_population\tcountry_region\n",
    "AF\tNone\tNone\t33.0\t65.0\tNone\tNone\t37172386\t19093281\t18079105\tAfghanistan\n",
    "AL\tNone\tNone\t41.0\t20.0\tNone\tNone\t2866376\t1460043\t1406333\tAlbania\n",
    "DZ\tNone\tNone\t28.0\t3.0\tNone\tNone\t42228429\t21332000\t20896429\tAlgeria\n",
    "*/\n",
    "\n",
    "\n",
    "CREATE TABLE ecdc_global (\n",
    "\tcountry_region VARCHAR(16777216), \n",
    "\tcontinentexp VARCHAR(16777216), \n",
    "\tiso3166_1 VARCHAR(2), \n",
    "\tcases FLOAT, \n",
    "\tdeaths FLOAT, \n",
    "\tcases_since_prev_day FLOAT, \n",
    "\tdeaths_since_prev_day FLOAT, \n",
    "\tpopulation FLOAT, \n",
    "\tdate DATE, \n",
    "\tlast_update_date TIMESTAMP_NTZ, \n",
    "\tlast_reported_flag BOOLEAN\n",
    ")\n",
    "\n",
    "/*\n",
    "3 rows from ecdc_global table:\n",
    "country_region\tcontinentexp\tiso3166_1\tcases\tdeaths\tcases_since_prev_day\tdeaths_since_prev_day\tpopulation\tdate\tlast_update_date\tlast_reported_flag\n",
    "Albania\tEurope\tAL\t788.0\t14.0\t0.0\t0.0\t2862427.0\t2020-12-14\t2023-07-19 00:02:41.691935\tTrue\n",
    "Albania\tEurope\tAL\t879.0\t12.0\t91.0\t-2.0\t2862427.0\t2020-12-13\t2023-07-19 00:02:41.691935\tFalse\n",
    "Albania\tEurope\tAL\t802.0\t12.0\t-77.0\t0.0\t2862427.0\t2020-12-12\t2023-07-19 00:02:41.691935\tFalse\n",
    "*/\n",
    "\n",
    "\n",
    "CREATE TABLE goog_global_mobility_report (\n",
    "\tcountry_region VARCHAR(250), \n",
    "\tprovince_state VARCHAR(250), \n",
    "\tiso_3166_1 VARCHAR(2), \n",
    "\tiso_3166_2 VARCHAR(5), \n",
    "\tdate DATE, \n",
    "\tgrocery_and_pharmacy_change_perc FLOAT, \n",
    "\tparks_change_perc FLOAT, \n",
    "\tresidential_change_perc FLOAT, \n",
    "\tretail_and_recreation_change_perc FLOAT, \n",
    "\ttransit_stations_change_perc FLOAT, \n",
    "\tworkplaces_change_perc FLOAT, \n",
    "\tlast_update_date TIMESTAMP_NTZ, \n",
    "\tlast_reported_flag BOOLEAN, \n",
    "\tsub_region_2 VARCHAR(256)\n",
    ")\n",
    "\n",
    "/*\n",
    "3 rows from goog_global_mobility_report table:\n",
    "country_region\tprovince_state\tiso_3166_1\tiso_3166_2\tdate\tgrocery_and_pharmacy_change_perc\tparks_change_perc\tresidential_change_perc\tretail_and_recreation_change_perc\ttransit_stations_change_perc\tworkplaces_change_perc\tlast_update_date\tlast_reported_flag\tsub_region_2\n",
    "United States\tTennessee\tUS\tTN\t2022-02-24\t6.0\t-29.0\t6.0\t-10.0\t-30.0\t-7.0\t2023-07-19 00:03:51.877503\tFalse\tMontgomery County\n",
    "United States\tTennessee\tUS\tTN\t2022-02-25\t3.0\t-17.0\t4.0\t-6.0\t-27.0\t1.0\t2023-07-19 00:03:51.877503\tFalse\tMontgomery County\n",
    "United States\tTennessee\tUS\tTN\t2022-02-26\t10.0\t58.0\t1.0\t0.0\t-23.0\t11.0\t2023-07-19 00:03:51.877503\tFalse\tMontgomery County\n",
    "*/\n",
    "\n",
    "History: ```{history}```\n",
    "\n",
    "Input: ```{input}```\n",
    "\n",
    "Answer:\n",
    "\"\"\"\n",
    "\n",
    "prompt_qa = PromptTemplate(template=template_qa, input_variables=[\"history\", \"input\"])"
   ]
  },
  {
   "cell_type": "code",
   "execution_count": 27,
   "metadata": {},
   "outputs": [],
   "source": [
    "from langchain.chat_models import ChatOpenAI\n",
    "from langchain.chains import ConversationChain\n",
    "\n",
    "\n",
    "q_llm = ChatOpenAI(\n",
    "    model_name=\"gpt-3.5-turbo-16k\",\n",
    "    temperature=0.1,\n",
    "    max_tokens=500\n",
    ")\n",
    "\n",
    "conv_chain = ConversationChain(\n",
    "   llm=q_llm,\n",
    "   prompt=prompt_qa,\n",
    "#    verbose=True\n",
    ")"
   ]
  },
  {
   "cell_type": "code",
   "execution_count": 18,
   "metadata": {},
   "outputs": [
    {
     "name": "stdout",
     "output_type": "stream",
     "text": [
      "Hello! I'm an AI assistant specializing in data analysis with Snowflake SQL. I can help you with various data analysis tasks using SQL queries in the Snowflake environment. Here's a high-level overview of the database:\n",
      "\n",
      "- The `databank_demographics` table contains demographic information such as ISO codes, latitude, longitude, population, and gender breakdown.\n",
      "- The `ecdc_global` table provides global COVID-19 data, including cases, deaths, population, and dates.\n",
      "- The `goog_global_mobility_report` table tracks mobility changes in different regions, including changes in grocery and pharmacy visits, parks, residential areas, retail and recreation, transit stations, and workplaces.\n",
      "\n",
      "Now, let's move on to the example questions:\n",
      "\n",
      "1. What is the total population in the `databank_demographics` table?\n",
      "2. How many COVID-19 cases were reported in Albania on a specific date in the `ecdc_global` table?\n",
      "3. What was the percentage change in workplace visits in Tennessee, United States, on a specific date in the `goog_global_mobility_report` table?\n",
      "\n",
      "Feel free to ask any specific questions related to these examples or any other data analysis tasks you have in mind!\n"
     ]
    }
   ],
   "source": [
    "chat_history = []\n",
    "question = \"\"\"Now to get started, please briefly introduce yourself, describe the database at a high level. Then provide 3 example questions using bullet points. this reponse without query. Write your response in markdown format.\"\"\"\n",
    "output = conv_chain.predict(input=question)\n",
    "\n",
    "# show answer\n",
    "print(output)"
   ]
  },
  {
   "cell_type": "code",
   "execution_count": 28,
   "metadata": {},
   "outputs": [
    {
     "name": "stdout",
     "output_type": "stream",
     "text": [
      "To find the total number of COVID-19 cases and deaths for each country in the `ecdc_global` table, you can use the following SQL query:\n",
      "\n",
      "```sql\n",
      "SELECT country_region, SUM(cases) AS total_cases, SUM(deaths) AS total_deaths\n",
      "FROM ecdc_global\n",
      "GROUP BY country_region;\n",
      "```\n",
      "\n",
      "This query selects the `country_region` column from the `ecdc_global` table and calculates the sum of the `cases` and `deaths` columns for each country using the `SUM` function. The `GROUP BY` clause groups the results by the `country_region` column.\n",
      "\n",
      "Please note that this query assumes that the `ecdc_global` table contains the relevant data for COVID-19 cases and deaths.\n"
     ]
    }
   ],
   "source": [
    "output = conv_chain.predict(input=\"What is the total number of COVID-19 cases and deaths for each country in the `ecdc_global` table?\")\n",
    "print(output)"
   ]
  },
  {
   "cell_type": "markdown",
   "metadata": {},
   "source": [
    "## Executing sql into snowflake and display dataframe"
   ]
  },
  {
   "cell_type": "code",
   "execution_count": 29,
   "metadata": {},
   "outputs": [
    {
     "data": {
      "text/html": [
       "<div>\n",
       "<style scoped>\n",
       "    .dataframe tbody tr th:only-of-type {\n",
       "        vertical-align: middle;\n",
       "    }\n",
       "\n",
       "    .dataframe tbody tr th {\n",
       "        vertical-align: top;\n",
       "    }\n",
       "\n",
       "    .dataframe thead th {\n",
       "        text-align: right;\n",
       "    }\n",
       "</style>\n",
       "<table border=\"1\" class=\"dataframe\">\n",
       "  <thead>\n",
       "    <tr style=\"text-align: right;\">\n",
       "      <th></th>\n",
       "      <th>country_region</th>\n",
       "      <th>total_cases</th>\n",
       "      <th>total_deaths</th>\n",
       "    </tr>\n",
       "  </thead>\n",
       "  <tbody>\n",
       "    <tr>\n",
       "      <th>0</th>\n",
       "      <td>Albania</td>\n",
       "      <td>48530.0</td>\n",
       "      <td>1003.0</td>\n",
       "    </tr>\n",
       "    <tr>\n",
       "      <th>1</th>\n",
       "      <td>Algeria</td>\n",
       "      <td>92102.0</td>\n",
       "      <td>2596.0</td>\n",
       "    </tr>\n",
       "    <tr>\n",
       "      <th>2</th>\n",
       "      <td>Andorra</td>\n",
       "      <td>7338.0</td>\n",
       "      <td>79.0</td>\n",
       "    </tr>\n",
       "    <tr>\n",
       "      <th>3</th>\n",
       "      <td>Angola</td>\n",
       "      <td>16188.0</td>\n",
       "      <td>371.0</td>\n",
       "    </tr>\n",
       "    <tr>\n",
       "      <th>4</th>\n",
       "      <td>Anguilla</td>\n",
       "      <td>10.0</td>\n",
       "      <td>0.0</td>\n",
       "    </tr>\n",
       "    <tr>\n",
       "      <th>...</th>\n",
       "      <td>...</td>\n",
       "      <td>...</td>\n",
       "      <td>...</td>\n",
       "    </tr>\n",
       "    <tr>\n",
       "      <th>208</th>\n",
       "      <td>Poland</td>\n",
       "      <td>1135676.0</td>\n",
       "      <td>22864.0</td>\n",
       "    </tr>\n",
       "    <tr>\n",
       "      <th>209</th>\n",
       "      <td>Slovenia</td>\n",
       "      <td>96314.0</td>\n",
       "      <td>1459.0</td>\n",
       "    </tr>\n",
       "    <tr>\n",
       "      <th>210</th>\n",
       "      <td>Virgin Islands, U.S.</td>\n",
       "      <td>1807.0</td>\n",
       "      <td>23.0</td>\n",
       "    </tr>\n",
       "    <tr>\n",
       "      <th>211</th>\n",
       "      <td>Western Sahara</td>\n",
       "      <td>766.0</td>\n",
       "      <td>1.0</td>\n",
       "    </tr>\n",
       "    <tr>\n",
       "      <th>212</th>\n",
       "      <td>Zambia</td>\n",
       "      <td>18274.0</td>\n",
       "      <td>367.0</td>\n",
       "    </tr>\n",
       "  </tbody>\n",
       "</table>\n",
       "<p>213 rows × 3 columns</p>\n",
       "</div>"
      ],
      "text/plain": [
       "           country_region  total_cases  total_deaths\n",
       "0                 Albania      48530.0        1003.0\n",
       "1                 Algeria      92102.0        2596.0\n",
       "2                 Andorra       7338.0          79.0\n",
       "3                  Angola      16188.0         371.0\n",
       "4                Anguilla         10.0           0.0\n",
       "..                    ...          ...           ...\n",
       "208                Poland    1135676.0       22864.0\n",
       "209              Slovenia      96314.0        1459.0\n",
       "210  Virgin Islands, U.S.       1807.0          23.0\n",
       "211        Western Sahara        766.0           1.0\n",
       "212                Zambia      18274.0         367.0\n",
       "\n",
       "[213 rows x 3 columns]"
      ]
     },
     "execution_count": 29,
     "metadata": {},
     "output_type": "execute_result"
    }
   ],
   "source": [
    "from sqlalchemy import create_engine\n",
    "import pandas as pd \n",
    "\n",
    "\n",
    "engine = create_engine(uri_snow)\n",
    "df = pd.read_sql(get_sql(output), engine)\n",
    "df"
   ]
  }
 ],
 "metadata": {
  "kernelspec": {
   "display_name": "snowpark",
   "language": "python",
   "name": "python3"
  },
  "language_info": {
   "codemirror_mode": {
    "name": "ipython",
    "version": 3
   },
   "file_extension": ".py",
   "mimetype": "text/x-python",
   "name": "python",
   "nbconvert_exporter": "python",
   "pygments_lexer": "ipython3",
   "version": "3.10.12"
  },
  "orig_nbformat": 4
 },
 "nbformat": 4,
 "nbformat_minor": 2
}
