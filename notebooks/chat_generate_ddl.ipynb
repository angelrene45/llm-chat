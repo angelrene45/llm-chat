{
 "cells": [
  {
   "cell_type": "markdown",
   "metadata": {},
   "source": [
    "## Load environment variable"
   ]
  },
  {
   "cell_type": "code",
   "execution_count": 2,
   "metadata": {},
   "outputs": [
    {
     "data": {
      "text/plain": [
       "True"
      ]
     },
     "execution_count": 2,
     "metadata": {},
     "output_type": "execute_result"
    }
   ],
   "source": [
    "# Load environments variables\n",
    "from dotenv import load_dotenv\n",
    "load_dotenv(\"../.streamlit/secrets.toml\")"
   ]
  },
  {
   "cell_type": "markdown",
   "metadata": {},
   "source": [
    "## Get database information using langchain.SQLDatabase\n",
    "Snowflake Database has 43 tables "
   ]
  },
  {
   "cell_type": "code",
   "execution_count": 3,
   "metadata": {},
   "outputs": [],
   "source": [
    "import os\n",
    "from snowflake.sqlalchemy import URL\n",
    "from langchain import OpenAI, SQLDatabase, SQLDatabaseChain\n",
    "\n",
    "# create snowflake connection uri\n",
    "uri_snow = URL(\n",
    "    account=os.getenv(\"account\"),\n",
    "    user=os.getenv(\"user\"),\n",
    "    password=os.getenv(\"password\"),\n",
    "    database=os.getenv(\"database\"),\n",
    "    schema=os.getenv(\"schema\"),\n",
    "    warehouse=os.getenv(\"warehouse\"),\n",
    "    role=os.getenv(\"role\"),\n",
    ")\n",
    "\n",
    "# generate prompt 2 tables\n",
    "tables = [\"contact\", \"employee\", \"priority_contact\", \"readership\", \"interaction\"]\n",
    "db = SQLDatabase.from_uri(uri_snow, include_tables=tables)\n",
    "# sample all tables\n",
    "# db = SQLDatabase.from_uri(uri_snow)"
   ]
  },
  {
   "cell_type": "code",
   "execution_count": 4,
   "metadata": {},
   "outputs": [
    {
     "data": {
      "text/plain": [
       "'\\nCREATE TABLE contact (\\n\\tcontact_key DECIMAL(38, 0) NOT NULL, \\n\\tcontact_id VARCHAR(30), \\n\\tcontact_name VARCHAR(100), \\n\\tclient_id VARCHAR(30), \\n\\tclient_name VARCHAR(100), \\n\\ttier VARCHAR(10), \\n\\tregion VARCHAR(50), \\n\\tactive_flag VARCHAR(1), \\n\\tCONSTRAINT \"SYS_CONSTRAINT_4bb18bf2-e5e8-4cf0-b4eb-ad7e20161aef\" PRIMARY KEY (contact_key)\\n)\\n\\n/*\\n3 rows from contact table:\\ncontact_key\\tcontact_id\\tcontact_name\\tclient_id\\tclient_name\\ttier\\tregion\\tactive_flag\\n1\\tCT101\\tJohn Doe\\tCL001\\tABC Corp\\tGold\\tNorth America\\tY\\n2\\tCT102\\tJane Smith\\tCL002\\tXYZ Corp\\tSilver\\tEurope\\tY\\n3\\tCT103\\tMike Johnson\\tCL003\\t123 Industries\\tBronze\\tAsia\\tY\\n*/\\n\\n\\nCREATE TABLE employee (\\n\\temployee_key DECIMAL(38, 0) NOT NULL, \\n\\temp_ms_code VARCHAR(10), \\n\\tuser_code VARCHAR(20), \\n\\temployee_name VARCHAR(100), \\n\\tregion VARCHAR(50), \\n\\tactive_flag VARCHAR(1), \\n\\tbusiness_unit VARCHAR(50), \\n\\tproducer_flag VARCHAR(1), \\n\\tCONSTRAINT \"SYS_CONSTRAINT_73534a84-ffab-479a-9b33-b415af0645d0\" PRIMARY KEY (employee_key)\\n)\\n\\n/*\\n3 rows from employee table:\\nemployee_key\\temp_ms_code\\tuser_code\\temployee_name\\tregion\\tactive_flag\\tbusiness_unit\\tproducer_flag\\n1\\tMS001\\tUC001\\tJohn Doe\\tNorth America\\tY\\tSales\\tY\\n2\\tMS002\\tUC002\\tJane Smith\\tEurope\\tY\\tMarketing\\tN\\n3\\tMS003\\tUC003\\tMike Johnson\\tAsia\\tY\\tOperations\\tY\\n*/\\n\\n\\nCREATE TABLE interaction (\\n\\tinteraction_id VARCHAR(30) NOT NULL, \\n\\tinteraction_start_date TIMESTAMP_NTZ NOT NULL, \\n\\tinteraction_duration DECIMAL(38, 0), \\n\\tinteraction_region VARCHAR(30), \\n\\tlive_interaction VARCHAR(1), \\n\\temployee_key DECIMAL(38, 0) NOT NULL, \\n\\tcontact_key DECIMAL(38, 0) NOT NULL, \\n\\tinteraction_type VARCHAR(30), \\n\\tCONSTRAINT \"SYS_CONSTRAINT_d1a63a04-1ba3-4026-8fdf-4e78752f0ea2\" PRIMARY KEY (contact_key, employee_key, interaction_id, interaction_start_date)\\n)\\n\\n/*\\n3 rows from interaction table:\\ninteraction_id\\tinteraction_start_date\\tinteraction_duration\\tinteraction_region\\tlive_interaction\\temployee_key\\tcontact_key\\tinteraction_type\\nINT0\\t2023-07-01 00:00:00\\t24\\tASIA\\tY\\t11\\t13\\tPhone-Call(1-M)\\nINT1\\t2023-06-08 00:00:00\\t26\\tNORTH AMERICA\\tY\\t2\\t24\\tPhone-Call(1-M)\\nINT2\\t2023-06-14 00:00:00\\t18\\tASIA\\tY\\t12\\t9\\tPhone-Call(1-M)\\n*/\\n\\n\\nCREATE TABLE priority_contact (\\n\\temployee_key DECIMAL(38, 0) NOT NULL, \\n\\tcontact_key DECIMAL(38, 0) NOT NULL, \\n\\tis_priority_flag VARCHAR(1), \\n\\tCONSTRAINT \"SYS_CONSTRAINT_473fd803-e6ca-449a-b28b-9690a79af894\" PRIMARY KEY (contact_key, employee_key)\\n)\\n\\n/*\\n3 rows from priority_contact table:\\nemployee_key\\tcontact_key\\tis_priority_flag\\n6\\t38\\tN\\n5\\t32\\tN\\n5\\t18\\tN\\n*/\\n\\n\\nCREATE TABLE readership (\\n\\treadership_key DECIMAL(38, 0) NOT NULL, \\n\\tdocument_key DECIMAL(38, 0) NOT NULL, \\n\\tcontact_key DECIMAL(38, 0) NOT NULL, \\n\\tdoc_read_datetime TIMESTAMP_NTZ, \\n\\tdocument_id VARCHAR(255), \\n\\theadline VARCHAR(255), \\n\\tpublished_date TIMESTAMP_NTZ, \\n\\tapplication_name VARCHAR(255), \\n\\treport_type VARCHAR(100), \\n\\temployee_key DECIMAL(38, 0), \\n\\tticker VARCHAR(20), \\n\\tdocument_region VARCHAR(200), \\n\\tCONSTRAINT \"SYS_CONSTRAINT_d22921d3-f6c8-47ce-8e17-fa284b914c90\" PRIMARY KEY (readership_key)\\n)\\n\\n/*\\n3 rows from readership table:\\nreadership_key\\tdocument_key\\tcontact_key\\tdoc_read_datetime\\tdocument_id\\theadline\\tpublished_date\\tapplication_name\\treport_type\\temployee_key\\tticker\\tdocument_region\\n0\\t6\\t5\\t2023-06-02 00:00:00\\tDoc-890\\tCloud Computing and Security\\t2023-07-08 09:30:20\\tNone\\tRESEARCH\\t4\\tTCK-006\\tAustralia\\n1\\t2\\t25\\t2023-06-28 00:00:00\\tDoc-456\\tMachine Learning Basics\\t2023-06-30 14:45:10\\tNone\\tRESEARCH\\t8\\tTCK-002\\tEurope\\n2\\t2\\t25\\t2023-07-12 00:00:00\\tDoc-456\\tMachine Learning Basics\\t2023-06-30 14:45:10\\tNone\\tRESEARCH\\t14\\tTCK-002\\tEurope\\n*/'"
      ]
     },
     "execution_count": 4,
     "metadata": {},
     "output_type": "execute_result"
    }
   ],
   "source": [
    "# get DDL and 3 rows samples for every table\n",
    "db_info = db.table_info\n",
    "db_info"
   ]
  },
  {
   "cell_type": "code",
   "execution_count": 5,
   "metadata": {},
   "outputs": [],
   "source": [
    "# save database info into\n",
    "with open(\"../docs/database_info.txt\", \"w\") as fp:\n",
    "    fp.write(db_info)"
   ]
  }
 ],
 "metadata": {
  "kernelspec": {
   "display_name": "snowpark",
   "language": "python",
   "name": "python3"
  },
  "language_info": {
   "codemirror_mode": {
    "name": "ipython",
    "version": 3
   },
   "file_extension": ".py",
   "mimetype": "text/x-python",
   "name": "python",
   "nbconvert_exporter": "python",
   "pygments_lexer": "ipython3",
   "version": "3.10.12"
  },
  "orig_nbformat": 4
 },
 "nbformat": 4,
 "nbformat_minor": 2
}
