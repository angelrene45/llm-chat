{
 "cells": [
  {
   "cell_type": "code",
   "execution_count": 1,
   "metadata": {},
   "outputs": [],
   "source": [
    "import os\n",
    "\n",
    "from langchain.agents import create_sql_agent\n",
    "from langchain.agents.agent_toolkits import SQLDatabaseToolkit\n",
    "from langchain.sql_database import SQLDatabase\n",
    "from langchain.llms.openai import OpenAI\n",
    "from langchain.agents import AgentExecutor\n",
    "from langchain.agents.agent_types import AgentType\n",
    "from snowflake.sqlalchemy import URL\n",
    "from langchain import SQLDatabase\n",
    "\n",
    "# Load environments variables\n",
    "from dotenv import load_dotenv\n",
    "load_dotenv(\"../.streamlit/secrets.toml\") \n",
    "\n",
    "\n",
    "# create snowflake connection\n",
    "uri_snow = URL(\n",
    "    account=os.getenv(\"account\"),\n",
    "    user=os.getenv(\"user\"),\n",
    "    password=os.getenv(\"password\"),\n",
    "    database=os.getenv(\"database\"),\n",
    "    schema=os.getenv(\"schema\"),\n",
    "    warehouse=os.getenv(\"warehouse\"),\n",
    "    role=os.getenv(\"role\"),\n",
    ")\n",
    "\n",
    "tables = [\"contact\", \"employee\", \"priority_contact\", \"readership\", \"interaction\"]\n",
    "db = SQLDatabase.from_uri(uri_snow, include_tables=tables)\n",
    "# db = SQLDatabase.from_uri(uri_snow)\n",
    "toolkit = SQLDatabaseToolkit(db=db, llm=OpenAI(temperature=0))"
   ]
  },
  {
   "cell_type": "code",
   "execution_count": 2,
   "metadata": {},
   "outputs": [],
   "source": [
    "agent_executor = create_sql_agent(\n",
    "    llm=OpenAI(temperature=0),\n",
    "    toolkit=toolkit,\n",
    "    verbose=True,\n",
    "    agent_type=AgentType.ZERO_SHOT_REACT_DESCRIPTION,\n",
    ")"
   ]
  },
  {
   "cell_type": "code",
   "execution_count": 4,
   "metadata": {},
   "outputs": [
    {
     "name": "stdout",
     "output_type": "stream",
     "text": [
      "\n",
      "\n",
      "\u001b[1m> Entering new AgentExecutor chain...\u001b[0m\n",
      "\u001b[32;1m\u001b[1;3mAction: sql_db_list_tables\n",
      "Action Input: \u001b[0m\n",
      "Observation: \u001b[38;5;200m\u001b[1;3mcontact, employee, interaction, priority_contact, readership\u001b[0m\n",
      "Thought:\u001b[32;1m\u001b[1;3m I should query the schema of the contact and readership tables.\n",
      "Action: sql_db_schema\n",
      "Action Input: contact, readership\u001b[0m\n",
      "Observation: \u001b[33;1m\u001b[1;3m\n",
      "CREATE TABLE contact (\n",
      "\tcontact_key DECIMAL(38, 0) NOT NULL, \n",
      "\tcontact_id VARCHAR(30), \n",
      "\tcontact_name VARCHAR(100), \n",
      "\tclient_id VARCHAR(30), \n",
      "\tclient_name VARCHAR(100), \n",
      "\ttier VARCHAR(10), \n",
      "\tregion VARCHAR(50), \n",
      "\tactive_flag VARCHAR(1), \n",
      "\tCONSTRAINT \"SYS_CONSTRAINT_4bb18bf2-e5e8-4cf0-b4eb-ad7e20161aef\" PRIMARY KEY (contact_key)\n",
      ")\n",
      "\n",
      "/*\n",
      "3 rows from contact table:\n",
      "contact_key\tcontact_id\tcontact_name\tclient_id\tclient_name\ttier\tregion\tactive_flag\n",
      "1\tCT101\tJohn Doe\tCL001\tABC Corp\tGold\tNorth America\tY\n",
      "2\tCT102\tJane Smith\tCL002\tXYZ Corp\tSilver\tEurope\tY\n",
      "3\tCT103\tMike Johnson\tCL003\t123 Industries\tBronze\tAsia\tY\n",
      "*/\n",
      "\n",
      "\n",
      "CREATE TABLE readership (\n",
      "\treadership_key DECIMAL(38, 0) NOT NULL, \n",
      "\tdocument_key DECIMAL(38, 0) NOT NULL, \n",
      "\tcontact_key DECIMAL(38, 0) NOT NULL, \n",
      "\tdoc_read_datetime TIMESTAMP_NTZ, \n",
      "\tdocument_id VARCHAR(255), \n",
      "\theadline VARCHAR(255), \n",
      "\tpublished_date TIMESTAMP_NTZ, \n",
      "\tapplication_name VARCHAR(255), \n",
      "\treport_type VARCHAR(100), \n",
      "\temployee_key DECIMAL(38, 0), \n",
      "\tticker VARCHAR(20), \n",
      "\tdocument_region VARCHAR(200), \n",
      "\tCONSTRAINT \"SYS_CONSTRAINT_d22921d3-f6c8-47ce-8e17-fa284b914c90\" PRIMARY KEY (readership_key)\n",
      ")\n",
      "\n",
      "/*\n",
      "3 rows from readership table:\n",
      "readership_key\tdocument_key\tcontact_key\tdoc_read_datetime\tdocument_id\theadline\tpublished_date\tapplication_name\treport_type\temployee_key\tticker\tdocument_region\n",
      "0\t6\t5\t2023-06-02 00:00:00\tDoc-890\tCloud Computing and Security\t2023-07-08 09:30:20\tNone\tRESEARCH\t4\tTCK-006\tAustralia\n",
      "1\t2\t25\t2023-06-28 00:00:00\tDoc-456\tMachine Learning Basics\t2023-06-30 14:45:10\tNone\tRESEARCH\t8\tTCK-002\tEurope\n",
      "2\t2\t25\t2023-07-12 00:00:00\tDoc-456\tMachine Learning Basics\t2023-06-30 14:45:10\tNone\tRESEARCH\t14\tTCK-002\tEurope\n",
      "*/\u001b[0m\n",
      "Thought:\u001b[32;1m\u001b[1;3m I should query the contact and readership tables to get the top 5 contacts who read the most.\n",
      "Action: sql_db_query\n",
      "Action Input: SELECT contact_name, COUNT(*) AS num_read \n",
      "FROM contact \n",
      "INNER JOIN readership \n",
      "ON contact.contact_key = readership.contact_key \n",
      "GROUP BY contact_name \n",
      "ORDER BY num_read DESC \n",
      "LIMIT 5;\u001b[0m\n",
      "Observation: \u001b[36;1m\u001b[1;3m[('Sophia Smith', 306), ('James Lee', 161), ('Olivia Kim', 161), ('William Smith', 160), ('Noah Johnson', 159)]\u001b[0m\n",
      "Thought:\u001b[32;1m\u001b[1;3m I now know the final answer\n",
      "Final Answer: The top 5 contacts who read the most are Sophia Smith (306), James Lee (161), Olivia Kim (161), William Smith (160), and Noah Johnson (159).\u001b[0m\n",
      "\n",
      "\u001b[1m> Finished chain.\u001b[0m\n"
     ]
    },
    {
     "data": {
      "text/plain": [
       "{'input': 'top 5 contacts name who read most',\n",
       " 'output': 'The top 5 contacts who read the most are Sophia Smith (306), James Lee (161), Olivia Kim (161), William Smith (160), and Noah Johnson (159).'}"
      ]
     },
     "execution_count": 4,
     "metadata": {},
     "output_type": "execute_result"
    }
   ],
   "source": [
    "agent_executor(\"top 5 contacts name who read most\")"
   ]
  }
 ],
 "metadata": {
  "kernelspec": {
   "display_name": "snowpark",
   "language": "python",
   "name": "python3"
  },
  "language_info": {
   "codemirror_mode": {
    "name": "ipython",
    "version": 3
   },
   "file_extension": ".py",
   "mimetype": "text/x-python",
   "name": "python",
   "nbconvert_exporter": "python",
   "pygments_lexer": "ipython3",
   "version": "3.10.12"
  },
  "orig_nbformat": 4
 },
 "nbformat": 4,
 "nbformat_minor": 2
}
