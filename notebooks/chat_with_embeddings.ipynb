{
 "cells": [
  {
   "cell_type": "markdown",
   "metadata": {},
   "source": [
    "## Load environment variable"
   ]
  },
  {
   "cell_type": "code",
   "execution_count": 4,
   "metadata": {},
   "outputs": [
    {
     "data": {
      "text/plain": [
       "True"
      ]
     },
     "execution_count": 4,
     "metadata": {},
     "output_type": "execute_result"
    }
   ],
   "source": [
    "# Load environments variables\n",
    "from dotenv import load_dotenv\n",
    "load_dotenv(\"../.streamlit/secrets.toml\")"
   ]
  },
  {
   "cell_type": "code",
   "execution_count": 5,
   "metadata": {},
   "outputs": [],
   "source": [
    "# read file\n",
    "with open(\"../docs/database_info.txt\", \"r\") as fp:\n",
    "    text_file = fp.read()"
   ]
  },
  {
   "cell_type": "markdown",
   "metadata": {},
   "source": [
    "### Create langchain documents from tables DDL "
   ]
  },
  {
   "cell_type": "code",
   "execution_count": 6,
   "metadata": {},
   "outputs": [
    {
     "name": "stderr",
     "output_type": "stream",
     "text": [
      "Created a chunk of size 607, which is longer than the specified 0\n",
      "Created a chunk of size 616, which is longer than the specified 0\n",
      "Created a chunk of size 830, which is longer than the specified 0\n",
      "Created a chunk of size 355, which is longer than the specified 0\n"
     ]
    },
    {
     "data": {
      "text/plain": [
       "[Document(page_content='CREATE TABLE contact (\\n\\tcontact_key DECIMAL(38, 0) NOT NULL, \\n\\tcontact_id VARCHAR(30), \\n\\tcontact_name VARCHAR(100), \\n\\tclient_id VARCHAR(30), \\n\\tclient_name VARCHAR(100), \\n\\ttier VARCHAR(10), \\n\\tregion VARCHAR(50), \\n\\tactive_flag VARCHAR(1), \\n\\tCONSTRAINT \"SYS_CONSTRAINT_4bb18bf2-e5e8-4cf0-b4eb-ad7e20161aef\" PRIMARY KEY (contact_key)\\n)\\n\\n/*\\n3 rows from contact table:\\ncontact_key\\tcontact_id\\tcontact_name\\tclient_id\\tclient_name\\ttier\\tregion\\tactive_flag\\n1\\tCT101\\tJohn Doe\\tCL001\\tABC Corp\\tGold\\tNorth America\\tY\\n2\\tCT102\\tJane Smith\\tCL002\\tXYZ Corp\\tSilver\\tEurope\\tY\\n3\\tCT103\\tMike Johnson\\tCL003\\t123 Industries\\tBronze\\tAsia\\tY\\n*/', metadata={'document': 'database_info.txt'}),\n",
       " Document(page_content='CREATE TABLE employee (\\n\\temployee_key DECIMAL(38, 0) NOT NULL, \\n\\temp_ms_code VARCHAR(10), \\n\\tuser_code VARCHAR(20), \\n\\temployee_name VARCHAR(100), \\n\\tregion VARCHAR(50), \\n\\tactive_flag VARCHAR(1), \\n\\tbusiness_unit VARCHAR(50), \\n\\tproducer_flag VARCHAR(1), \\n\\tCONSTRAINT \"SYS_CONSTRAINT_73534a84-ffab-479a-9b33-b415af0645d0\" PRIMARY KEY (employee_key)\\n)\\n\\n/*\\n3 rows from employee table:\\nemployee_key\\temp_ms_code\\tuser_code\\temployee_name\\tregion\\tactive_flag\\tbusiness_unit\\tproducer_flag\\n1\\tMS001\\tUC001\\tJohn Doe\\tNorth America\\tY\\tSales\\tY\\n2\\tMS002\\tUC002\\tJane Smith\\tEurope\\tY\\tMarketing\\tN\\n3\\tMS003\\tUC003\\tMike Johnson\\tAsia\\tY\\tOperations\\tY\\n*/', metadata={'document': 'database_info.txt'}),\n",
       " Document(page_content='CREATE TABLE interaction (\\n\\tinteraction_id VARCHAR(30) NOT NULL, \\n\\tinteraction_start_date TIMESTAMP_NTZ NOT NULL, \\n\\tinteraction_duration DECIMAL(38, 0), \\n\\tinteraction_region VARCHAR(30), \\n\\tlive_interaction VARCHAR(1), \\n\\temployee_key DECIMAL(38, 0) NOT NULL, \\n\\tcontact_key DECIMAL(38, 0) NOT NULL, \\n\\tinteraction_type VARCHAR(30), \\n\\tCONSTRAINT \"SYS_CONSTRAINT_d1a63a04-1ba3-4026-8fdf-4e78752f0ea2\" PRIMARY KEY (contact_key, employee_key, interaction_id, interaction_start_date)\\n)\\n\\n/*\\n3 rows from interaction table:\\ninteraction_id\\tinteraction_start_date\\tinteraction_duration\\tinteraction_region\\tlive_interaction\\temployee_key\\tcontact_key\\tinteraction_type\\nINT0\\t2023-07-01 00:00:00\\t24\\tASIA\\tY\\t11\\t13\\tPhone-Call(1-M)\\nINT1\\t2023-06-08 00:00:00\\t26\\tNORTH AMERICA\\tY\\t2\\t24\\tPhone-Call(1-M)\\nINT2\\t2023-06-14 00:00:00\\t18\\tASIA\\tY\\t12\\t9\\tPhone-Call(1-M)\\n*/', metadata={'document': 'database_info.txt'}),\n",
       " Document(page_content='CREATE TABLE priority_contact (\\n\\temployee_key DECIMAL(38, 0) NOT NULL, \\n\\tcontact_key DECIMAL(38, 0) NOT NULL, \\n\\tis_priority_flag VARCHAR(1), \\n\\tCONSTRAINT \"SYS_CONSTRAINT_473fd803-e6ca-449a-b28b-9690a79af894\" PRIMARY KEY (contact_key, employee_key)\\n)\\n\\n/*\\n3 rows from priority_contact table:\\nemployee_key\\tcontact_key\\tis_priority_flag\\n6\\t38\\tN\\n5\\t32\\tN\\n5\\t18\\tN\\n*/', metadata={'document': 'database_info.txt'}),\n",
       " Document(page_content='CREATE TABLE readership (\\n\\treadership_key DECIMAL(38, 0) NOT NULL, \\n\\tdocument_key DECIMAL(38, 0) NOT NULL, \\n\\tcontact_key DECIMAL(38, 0) NOT NULL, \\n\\tdoc_read_datetime TIMESTAMP_NTZ, \\n\\tdocument_id VARCHAR(255), \\n\\theadline VARCHAR(255), \\n\\tpublished_date TIMESTAMP_NTZ, \\n\\tapplication_name VARCHAR(255), \\n\\treport_type VARCHAR(100), \\n\\temployee_key DECIMAL(38, 0), \\n\\tticker VARCHAR(20), \\n\\tdocument_region VARCHAR(200), \\n\\tCONSTRAINT \"SYS_CONSTRAINT_d22921d3-f6c8-47ce-8e17-fa284b914c90\" PRIMARY KEY (readership_key)\\n)\\n\\n/*\\n3 rows from readership table:\\nreadership_key\\tdocument_key\\tcontact_key\\tdoc_read_datetime\\tdocument_id\\theadline\\tpublished_date\\tapplication_name\\treport_type\\temployee_key\\tticker\\tdocument_region\\n0\\t6\\t5\\t2023-06-02 00:00:00\\tDoc-890\\tCloud Computing and Security\\t2023-07-08 09:30:20\\tNone\\tRESEARCH\\t4\\tTCK-006\\tAustralia\\n1\\t2\\t25\\t2023-06-28 00:00:00\\tDoc-456\\tMachine Learning Basics\\t2023-06-30 14:45:10\\tNone\\tRESEARCH\\t8\\tTCK-002\\tEurope\\n2\\t2\\t25\\t2023-07-12 00:00:00\\tDoc-456\\tMachine Learning Basics\\t2023-06-30 14:45:10\\tNone\\tRESEARCH\\t14\\tTCK-002\\tEurope\\n*/', metadata={'document': 'database_info.txt'})]"
      ]
     },
     "execution_count": 6,
     "metadata": {},
     "output_type": "execute_result"
    }
   ],
   "source": [
    "from langchain.text_splitter import CharacterTextSplitter\n",
    "\n",
    "text_splitter = CharacterTextSplitter(        \n",
    "    separator = \"\\n\\n\\n\",\n",
    "    chunk_size = 0,\n",
    "    chunk_overlap = 0,\n",
    "    length_function = len\n",
    ")\n",
    "\n",
    "# Split document\n",
    "# texts_split = text_file.split(\"\\n\\n\\n\")\n",
    "texts_split = text_splitter.split_text(text_file)\n",
    "metadatas = [ {\"document\": \"database_info.txt\"} for _ in texts_split]\n",
    "docs = text_splitter.create_documents(texts_split, metadatas)\n",
    "docs"
   ]
  },
  {
   "cell_type": "markdown",
   "metadata": {},
   "source": [
    "### Create embeddings and save database in local using Chroma and OpenAIEmbeddings\n",
    "- Generate the embeddings using openAI with documents from above cell \n",
    "- Create the database in Chroma (local)"
   ]
  },
  {
   "cell_type": "code",
   "execution_count": 7,
   "metadata": {},
   "outputs": [
    {
     "name": "stderr",
     "output_type": "stream",
     "text": [
      "El sistema no puede encontrar el archivo especificado.\n"
     ]
    },
    {
     "data": {
      "text/plain": [
       "{'ids': ['93e2f43f-2802-11ee-ae3d-ac7ed0d21e7b'],\n",
       " 'embeddings': None,\n",
       " 'documents': ['CREATE TABLE contact (\\n\\tcontact_key DECIMAL(38, 0) NOT NULL, \\n\\tcontact_id VARCHAR(30), \\n\\tcontact_name VARCHAR(100), \\n\\tclient_id VARCHAR(30), \\n\\tclient_name VARCHAR(100), \\n\\ttier VARCHAR(10), \\n\\tregion VARCHAR(50), \\n\\tactive_flag VARCHAR(1), \\n\\tCONSTRAINT \"SYS_CONSTRAINT_4bb18bf2-e5e8-4cf0-b4eb-ad7e20161aef\" PRIMARY KEY (contact_key)\\n)\\n\\n/*\\n3 rows from contact table:\\ncontact_key\\tcontact_id\\tcontact_name\\tclient_id\\tclient_name\\ttier\\tregion\\tactive_flag\\n1\\tCT101\\tJohn Doe\\tCL001\\tABC Corp\\tGold\\tNorth America\\tY\\n2\\tCT102\\tJane Smith\\tCL002\\tXYZ Corp\\tSilver\\tEurope\\tY\\n3\\tCT103\\tMike Johnson\\tCL003\\t123 Industries\\tBronze\\tAsia\\tY\\n*/'],\n",
       " 'metadatas': [{'document': 'database_info.txt'}]}"
      ]
     },
     "execution_count": 7,
     "metadata": {},
     "output_type": "execute_result"
    }
   ],
   "source": [
    "# import Chroma Library that allow to store vector database in local\n",
    "from langchain.vectorstores import Chroma\n",
    "from langchain.embeddings import OpenAIEmbeddings\n",
    "\n",
    "# remove folder and avoid conflicts\n",
    "! rmdir /s /q \"../chroma_db\"\n",
    "\n",
    "# create object for embeddings using OpenAI\n",
    "embeddings = OpenAIEmbeddings()\n",
    "\n",
    "# create database and save embeddings in local\n",
    "vector_store = Chroma.from_documents(docs, embeddings, persist_directory=\"../chroma_db\")\n",
    "vector_store.persist()\n",
    "\n",
    "# get first embedding in database \n",
    "# vector_store.get(limit=1, include=['embeddings', 'documents', 'metadatas'])\n",
    "vector_store.get(limit=1)"
   ]
  },
  {
   "cell_type": "code",
   "execution_count": 8,
   "metadata": {},
   "outputs": [
    {
     "data": {
      "text/plain": [
       "5"
      ]
     },
     "execution_count": 8,
     "metadata": {},
     "output_type": "execute_result"
    }
   ],
   "source": [
    "vector_store._collection.count()"
   ]
  },
  {
   "cell_type": "code",
   "execution_count": 9,
   "metadata": {},
   "outputs": [
    {
     "data": {
      "text/plain": [
       "[Document(page_content='CREATE TABLE employee (\\n\\temployee_key DECIMAL(38, 0) NOT NULL, \\n\\temp_ms_code VARCHAR(10), \\n\\tuser_code VARCHAR(20), \\n\\temployee_name VARCHAR(100), \\n\\tregion VARCHAR(50), \\n\\tactive_flag VARCHAR(1), \\n\\tbusiness_unit VARCHAR(50), \\n\\tproducer_flag VARCHAR(1), \\n\\tCONSTRAINT \"SYS_CONSTRAINT_73534a84-ffab-479a-9b33-b415af0645d0\" PRIMARY KEY (employee_key)\\n)\\n\\n/*\\n3 rows from employee table:\\nemployee_key\\temp_ms_code\\tuser_code\\temployee_name\\tregion\\tactive_flag\\tbusiness_unit\\tproducer_flag\\n1\\tMS001\\tUC001\\tJohn Doe\\tNorth America\\tY\\tSales\\tY\\n2\\tMS002\\tUC002\\tJane Smith\\tEurope\\tY\\tMarketing\\tN\\n3\\tMS003\\tUC003\\tMike Johnson\\tAsia\\tY\\tOperations\\tY\\n*/', metadata={'document': 'database_info.txt'}),\n",
       " Document(page_content='CREATE TABLE contact (\\n\\tcontact_key DECIMAL(38, 0) NOT NULL, \\n\\tcontact_id VARCHAR(30), \\n\\tcontact_name VARCHAR(100), \\n\\tclient_id VARCHAR(30), \\n\\tclient_name VARCHAR(100), \\n\\ttier VARCHAR(10), \\n\\tregion VARCHAR(50), \\n\\tactive_flag VARCHAR(1), \\n\\tCONSTRAINT \"SYS_CONSTRAINT_4bb18bf2-e5e8-4cf0-b4eb-ad7e20161aef\" PRIMARY KEY (contact_key)\\n)\\n\\n/*\\n3 rows from contact table:\\ncontact_key\\tcontact_id\\tcontact_name\\tclient_id\\tclient_name\\ttier\\tregion\\tactive_flag\\n1\\tCT101\\tJohn Doe\\tCL001\\tABC Corp\\tGold\\tNorth America\\tY\\n2\\tCT102\\tJane Smith\\tCL002\\tXYZ Corp\\tSilver\\tEurope\\tY\\n3\\tCT103\\tMike Johnson\\tCL003\\t123 Industries\\tBronze\\tAsia\\tY\\n*/', metadata={'document': 'database_info.txt'}),\n",
       " Document(page_content='CREATE TABLE interaction (\\n\\tinteraction_id VARCHAR(30) NOT NULL, \\n\\tinteraction_start_date TIMESTAMP_NTZ NOT NULL, \\n\\tinteraction_duration DECIMAL(38, 0), \\n\\tinteraction_region VARCHAR(30), \\n\\tlive_interaction VARCHAR(1), \\n\\temployee_key DECIMAL(38, 0) NOT NULL, \\n\\tcontact_key DECIMAL(38, 0) NOT NULL, \\n\\tinteraction_type VARCHAR(30), \\n\\tCONSTRAINT \"SYS_CONSTRAINT_d1a63a04-1ba3-4026-8fdf-4e78752f0ea2\" PRIMARY KEY (contact_key, employee_key, interaction_id, interaction_start_date)\\n)\\n\\n/*\\n3 rows from interaction table:\\ninteraction_id\\tinteraction_start_date\\tinteraction_duration\\tinteraction_region\\tlive_interaction\\temployee_key\\tcontact_key\\tinteraction_type\\nINT0\\t2023-07-01 00:00:00\\t24\\tASIA\\tY\\t11\\t13\\tPhone-Call(1-M)\\nINT1\\t2023-06-08 00:00:00\\t26\\tNORTH AMERICA\\tY\\t2\\t24\\tPhone-Call(1-M)\\nINT2\\t2023-06-14 00:00:00\\t18\\tASIA\\tY\\t12\\t9\\tPhone-Call(1-M)\\n*/', metadata={'document': 'database_info.txt'}),\n",
       " Document(page_content='CREATE TABLE readership (\\n\\treadership_key DECIMAL(38, 0) NOT NULL, \\n\\tdocument_key DECIMAL(38, 0) NOT NULL, \\n\\tcontact_key DECIMAL(38, 0) NOT NULL, \\n\\tdoc_read_datetime TIMESTAMP_NTZ, \\n\\tdocument_id VARCHAR(255), \\n\\theadline VARCHAR(255), \\n\\tpublished_date TIMESTAMP_NTZ, \\n\\tapplication_name VARCHAR(255), \\n\\treport_type VARCHAR(100), \\n\\temployee_key DECIMAL(38, 0), \\n\\tticker VARCHAR(20), \\n\\tdocument_region VARCHAR(200), \\n\\tCONSTRAINT \"SYS_CONSTRAINT_d22921d3-f6c8-47ce-8e17-fa284b914c90\" PRIMARY KEY (readership_key)\\n)\\n\\n/*\\n3 rows from readership table:\\nreadership_key\\tdocument_key\\tcontact_key\\tdoc_read_datetime\\tdocument_id\\theadline\\tpublished_date\\tapplication_name\\treport_type\\temployee_key\\tticker\\tdocument_region\\n0\\t6\\t5\\t2023-06-02 00:00:00\\tDoc-890\\tCloud Computing and Security\\t2023-07-08 09:30:20\\tNone\\tRESEARCH\\t4\\tTCK-006\\tAustralia\\n1\\t2\\t25\\t2023-06-28 00:00:00\\tDoc-456\\tMachine Learning Basics\\t2023-06-30 14:45:10\\tNone\\tRESEARCH\\t8\\tTCK-002\\tEurope\\n2\\t2\\t25\\t2023-07-12 00:00:00\\tDoc-456\\tMachine Learning Basics\\t2023-06-30 14:45:10\\tNone\\tRESEARCH\\t14\\tTCK-002\\tEurope\\n*/', metadata={'document': 'database_info.txt'})]"
      ]
     },
     "execution_count": 9,
     "metadata": {},
     "output_type": "execute_result"
    }
   ],
   "source": [
    "# load from disk \n",
    "vector_store = Chroma(persist_directory=\"../chroma_db\", embedding_function=embeddings)\n",
    "docs = vector_store.similarity_search(\"which table contains the names of countries\")\n",
    "docs"
   ]
  },
  {
   "cell_type": "code",
   "execution_count": 10,
   "metadata": {},
   "outputs": [
    {
     "data": {
      "text/plain": [
       "[Document(page_content='CREATE TABLE readership (\\n\\treadership_key DECIMAL(38, 0) NOT NULL, \\n\\tdocument_key DECIMAL(38, 0) NOT NULL, \\n\\tcontact_key DECIMAL(38, 0) NOT NULL, \\n\\tdoc_read_datetime TIMESTAMP_NTZ, \\n\\tdocument_id VARCHAR(255), \\n\\theadline VARCHAR(255), \\n\\tpublished_date TIMESTAMP_NTZ, \\n\\tapplication_name VARCHAR(255), \\n\\treport_type VARCHAR(100), \\n\\temployee_key DECIMAL(38, 0), \\n\\tticker VARCHAR(20), \\n\\tdocument_region VARCHAR(200), \\n\\tCONSTRAINT \"SYS_CONSTRAINT_d22921d3-f6c8-47ce-8e17-fa284b914c90\" PRIMARY KEY (readership_key)\\n)\\n\\n/*\\n3 rows from readership table:\\nreadership_key\\tdocument_key\\tcontact_key\\tdoc_read_datetime\\tdocument_id\\theadline\\tpublished_date\\tapplication_name\\treport_type\\temployee_key\\tticker\\tdocument_region\\n0\\t6\\t5\\t2023-06-02 00:00:00\\tDoc-890\\tCloud Computing and Security\\t2023-07-08 09:30:20\\tNone\\tRESEARCH\\t4\\tTCK-006\\tAustralia\\n1\\t2\\t25\\t2023-06-28 00:00:00\\tDoc-456\\tMachine Learning Basics\\t2023-06-30 14:45:10\\tNone\\tRESEARCH\\t8\\tTCK-002\\tEurope\\n2\\t2\\t25\\t2023-07-12 00:00:00\\tDoc-456\\tMachine Learning Basics\\t2023-06-30 14:45:10\\tNone\\tRESEARCH\\t14\\tTCK-002\\tEurope\\n*/', metadata={'document': 'database_info.txt'}),\n",
       " Document(page_content='CREATE TABLE interaction (\\n\\tinteraction_id VARCHAR(30) NOT NULL, \\n\\tinteraction_start_date TIMESTAMP_NTZ NOT NULL, \\n\\tinteraction_duration DECIMAL(38, 0), \\n\\tinteraction_region VARCHAR(30), \\n\\tlive_interaction VARCHAR(1), \\n\\temployee_key DECIMAL(38, 0) NOT NULL, \\n\\tcontact_key DECIMAL(38, 0) NOT NULL, \\n\\tinteraction_type VARCHAR(30), \\n\\tCONSTRAINT \"SYS_CONSTRAINT_d1a63a04-1ba3-4026-8fdf-4e78752f0ea2\" PRIMARY KEY (contact_key, employee_key, interaction_id, interaction_start_date)\\n)\\n\\n/*\\n3 rows from interaction table:\\ninteraction_id\\tinteraction_start_date\\tinteraction_duration\\tinteraction_region\\tlive_interaction\\temployee_key\\tcontact_key\\tinteraction_type\\nINT0\\t2023-07-01 00:00:00\\t24\\tASIA\\tY\\t11\\t13\\tPhone-Call(1-M)\\nINT1\\t2023-06-08 00:00:00\\t26\\tNORTH AMERICA\\tY\\t2\\t24\\tPhone-Call(1-M)\\nINT2\\t2023-06-14 00:00:00\\t18\\tASIA\\tY\\t12\\t9\\tPhone-Call(1-M)\\n*/', metadata={'document': 'database_info.txt'}),\n",
       " Document(page_content='CREATE TABLE employee (\\n\\temployee_key DECIMAL(38, 0) NOT NULL, \\n\\temp_ms_code VARCHAR(10), \\n\\tuser_code VARCHAR(20), \\n\\temployee_name VARCHAR(100), \\n\\tregion VARCHAR(50), \\n\\tactive_flag VARCHAR(1), \\n\\tbusiness_unit VARCHAR(50), \\n\\tproducer_flag VARCHAR(1), \\n\\tCONSTRAINT \"SYS_CONSTRAINT_73534a84-ffab-479a-9b33-b415af0645d0\" PRIMARY KEY (employee_key)\\n)\\n\\n/*\\n3 rows from employee table:\\nemployee_key\\temp_ms_code\\tuser_code\\temployee_name\\tregion\\tactive_flag\\tbusiness_unit\\tproducer_flag\\n1\\tMS001\\tUC001\\tJohn Doe\\tNorth America\\tY\\tSales\\tY\\n2\\tMS002\\tUC002\\tJane Smith\\tEurope\\tY\\tMarketing\\tN\\n3\\tMS003\\tUC003\\tMike Johnson\\tAsia\\tY\\tOperations\\tY\\n*/', metadata={'document': 'database_info.txt'}),\n",
       " Document(page_content='CREATE TABLE contact (\\n\\tcontact_key DECIMAL(38, 0) NOT NULL, \\n\\tcontact_id VARCHAR(30), \\n\\tcontact_name VARCHAR(100), \\n\\tclient_id VARCHAR(30), \\n\\tclient_name VARCHAR(100), \\n\\ttier VARCHAR(10), \\n\\tregion VARCHAR(50), \\n\\tactive_flag VARCHAR(1), \\n\\tCONSTRAINT \"SYS_CONSTRAINT_4bb18bf2-e5e8-4cf0-b4eb-ad7e20161aef\" PRIMARY KEY (contact_key)\\n)\\n\\n/*\\n3 rows from contact table:\\ncontact_key\\tcontact_id\\tcontact_name\\tclient_id\\tclient_name\\ttier\\tregion\\tactive_flag\\n1\\tCT101\\tJohn Doe\\tCL001\\tABC Corp\\tGold\\tNorth America\\tY\\n2\\tCT102\\tJane Smith\\tCL002\\tXYZ Corp\\tSilver\\tEurope\\tY\\n3\\tCT103\\tMike Johnson\\tCL003\\t123 Industries\\tBronze\\tAsia\\tY\\n*/', metadata={'document': 'database_info.txt'})]"
      ]
     },
     "execution_count": 10,
     "metadata": {},
     "output_type": "execute_result"
    }
   ],
   "source": [
    "# search document which better match from question\n",
    "vector_store.similarity_search(\"readership per day\")"
   ]
  },
  {
   "cell_type": "markdown",
   "metadata": {},
   "source": [
    "# Create chat"
   ]
  },
  {
   "cell_type": "code",
   "execution_count": 12,
   "metadata": {},
   "outputs": [],
   "source": [
    "from langchain.prompts.prompt import PromptTemplate\n",
    "\n",
    "template_questions = \"\"\"Considering the provided chat history and a subsequent question, rewrite the follow-up question to be an independent query. Alternatively, conclude the conversation if it appears to be complete.\n",
    "Chat History:\\\"\"\"\n",
    "{chat_history}\n",
    "\\\"\"\"\n",
    "Follow Up Input: \\\"\"\"\n",
    "{question}\n",
    "\\\"\"\"\n",
    "Standalone question:\"\"\"\n",
    "\n",
    "\n",
    "template_qa = \"\"\" \n",
    "You're an AI assistant specializing in data analysis with Snowflake SQL. When providing responses, strive to exhibit friendliness and adopt a conversational tone, similar to how a friend or tutor would communicate.\n",
    "When asked about your capabilities, provide a general overview of your ability to assist with data analysis tasks using Snowflake SQL, instead of performing specific SQL queries. \n",
    "Based on the question provided, if it pertains to data analysis or SQL tasks, generate SQL code that is compatible with the Snowflake environment. Additionally, offer a brief explanation about how you arrived at the SQL code. If the required column isn't explicitly stated in the context, suggest an alternative using available columns, but do not assume the existence of any columns that are not mentioned. Also, do not modify the database in any way (no insert, update, or delete operations). You are only allowed to query the database. Refrain from using the information schema.\n",
    "If the question or context does not clearly involve SQL or data analysis tasks, respond appropriately without generating SQL queries. \n",
    "When the user expresses gratitude or says \"Thanks\", interpret it as a signal to conclude the conversation. Respond with an appropriate closing statement without generating further SQL queries.\n",
    "If you don't know the answer, simply state, \"I'm sorry, I don't know the answer to your question.\"\n",
    "Write your response in markdown format.\n",
    "\n",
    "Question: ```{question}```\n",
    "{context}\n",
    "\n",
    "Answer:\n",
    "\"\"\"\n",
    "\n",
    "condense_question_prompt = PromptTemplate.from_template(template_questions)\n",
    "prompt_qa = PromptTemplate(template=template_qa, input_variables=[\"question\", \"context\"])"
   ]
  },
  {
   "cell_type": "code",
   "execution_count": 13,
   "metadata": {},
   "outputs": [],
   "source": [
    "from langchain.chat_models import ChatOpenAI\n",
    "from langchain.chains import ConversationalRetrievalChain, LLMChain\n",
    "from langchain.chains.question_answering import load_qa_chain\n",
    "\n",
    "q_llm = ChatOpenAI(\n",
    "    model_name=\"gpt-3.5-turbo-16k\",\n",
    "    temperature=0.1,\n",
    "    max_tokens=500\n",
    ")\n",
    "\n",
    "llm = ChatOpenAI(\n",
    "    model_name=\"gpt-3.5-turbo\",\n",
    "    temperature=0.5,\n",
    "    max_tokens=500,\n",
    "    # streaming=True,\n",
    ")\n",
    "\n",
    "question_generator = LLMChain(llm=q_llm, prompt=condense_question_prompt)\n",
    "doc_chain = load_qa_chain(llm=llm, chain_type=\"stuff\", prompt=prompt_qa)\n",
    "\n",
    "conv_chain = ConversationalRetrievalChain(\n",
    "    retriever=vector_store.as_retriever(),\n",
    "    combine_docs_chain=doc_chain,\n",
    "    question_generator=question_generator\n",
    ")"
   ]
  },
  {
   "cell_type": "code",
   "execution_count": 14,
   "metadata": {},
   "outputs": [
    {
     "name": "stdout",
     "output_type": "stream",
     "text": [
      "I am an AI assistant specializing in data analysis with Snowflake SQL. I can help you with various data analysis tasks using SQL queries in the Snowflake environment. Here is a brief overview of my capabilities:\n",
      "\n",
      "- I can retrieve data from tables using SELECT statements, apply filters with WHERE clauses, and sort data with ORDER BY clauses.\n",
      "- I can perform aggregations using functions like COUNT, SUM, AVG, MIN, and MAX.\n",
      "- I can join tables together using JOIN statements to combine data from multiple tables based on common columns.\n",
      "- I can group data using GROUP BY clauses and apply conditions on grouped data using HAVING clauses.\n",
      "- I can create calculated columns using arithmetic operations and functions.\n",
      "- I can use subqueries to retrieve data from nested queries and perform complex analysis.\n",
      "- I can use conditional statements like CASE to perform conditional analysis.\n",
      "- I can use window functions to perform advanced calculations on subsets of data.\n",
      "\n",
      "Now, here are three example questions you can ask using Snowflake SQL:\n",
      "\n",
      "1. Retrieve the contact name and client name for all contacts in the \"North America\" region.\n",
      "   ```sql\n",
      "   SELECT contact_name, client_name\n",
      "   FROM contact\n",
      "   WHERE region = 'North America';\n",
      "   ```\n",
      "\n",
      "2. Calculate the average interaction duration for each tier of clients.\n",
      "   ```sql\n",
      "   SELECT tier, AVG(interaction_duration) AS average_duration\n",
      "   FROM interaction\n",
      "   INNER JOIN contact ON interaction.contact_key = contact.contact_key\n",
      "   GROUP BY tier;\n",
      "   ```\n",
      "\n",
      "3. Find the employee names who have read the document with document_id 'Doc-456'.\n",
      "   ```sql\n",
      "   SELECT employee_name\n",
      "   FROM employee\n",
      "   INNER JOIN readership ON employee.employee_key = readership.employee_key\n",
      "   WHERE document_id = 'Doc-456';\n",
      "   ```\n",
      "\n",
      "Please let me know if there is anything specific you would like to know or if you have any other questions related to data analysis with Snowflake SQL!\n"
     ]
    }
   ],
   "source": [
    "chat_history = []\n",
    "question = \"\"\"Now to get started, please briefly introduce yourself, describe the database at a high level. Then provide 3 example questions using bullet points. this reponse without query. Write your response in markdown format.\"\"\"\n",
    "result = conv_chain(\n",
    "            {\"question\": question, \"chat_history\": chat_history}\n",
    "        )\n",
    "answer = result[\"answer\"]\n",
    "\n",
    "# store the response in chat history\n",
    "chat_history = [(question, answer)]\n",
    "\n",
    "# show answer\n",
    "print(answer)"
   ]
  },
  {
   "cell_type": "code",
   "execution_count": 23,
   "metadata": {},
   "outputs": [
    {
     "name": "stderr",
     "output_type": "stream",
     "text": [
      "Number of requested results 4 is greater than number of elements in index 3, updating n_results = 3\n"
     ]
    },
    {
     "name": "stdout",
     "output_type": "stream",
     "text": [
      "To obtain the total number of COVID-19 cases and deaths for each country in the `ecdc_global` table, you can use the following SQL code:\n",
      "\n",
      "```sql\n",
      "SELECT country_region, SUM(cases) AS total_cases, SUM(deaths) AS total_deaths\n",
      "FROM ecdc_global\n",
      "GROUP BY country_region;\n",
      "```\n",
      "\n",
      "This code uses the `GROUP BY` clause to group the data by the `country_region` column. Then, it calculates the sum of the `cases` and `deaths` columns for each group using the `SUM` function. The result will include the `country_region`, `total_cases`, and `total_deaths` columns.\n",
      "\n",
      "Please note that this code assumes that the `ecdc_global` table contains the relevant data and columns mentioned in the question.\n"
     ]
    }
   ],
   "source": [
    "result = conv_chain(\n",
    "            {\"question\": \"What is the total number of COVID-19 cases and deaths for each country in the `ecdc_global` table?\", \"chat_history\": []}\n",
    "        )\n",
    "answer = result[\"answer\"]\n",
    "print(answer)\n"
   ]
  }
 ],
 "metadata": {
  "kernelspec": {
   "display_name": "snowpark",
   "language": "python",
   "name": "python3"
  },
  "language_info": {
   "codemirror_mode": {
    "name": "ipython",
    "version": 3
   },
   "file_extension": ".py",
   "mimetype": "text/x-python",
   "name": "python",
   "nbconvert_exporter": "python",
   "pygments_lexer": "ipython3",
   "version": "3.10.12"
  },
  "orig_nbformat": 4
 },
 "nbformat": 4,
 "nbformat_minor": 2
}
